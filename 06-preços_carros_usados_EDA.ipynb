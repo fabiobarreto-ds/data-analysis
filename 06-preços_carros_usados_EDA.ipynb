{
  "nbformat": 4,
  "nbformat_minor": 0,
  "metadata": {
    "colab": {
      "name": "preços_carros_usados_EDA.ipynb",
      "provenance": []
    },
    "kernelspec": {
      "name": "python3",
      "display_name": "Python 3"
    },
    "language_info": {
      "name": "python"
    }
  },
  "cells": [
    {
      "cell_type": "markdown",
      "source": [
        "##**Importando os dados:**"
      ],
      "metadata": {
        "id": "anbNlSr8QKnL"
      }
    },
    {
      "cell_type": "code",
      "execution_count": 2,
      "metadata": {
        "id": "xYYvk-1wEC-M"
      },
      "outputs": [],
      "source": [
        "import numpy as np\n",
        "%matplotlib inline\n",
        "import pandas as pd\n",
        "import seaborn as sns\n",
        "import tensorflow as tf\n",
        "import matplotlib.pyplot as plt"
      ]
    },
    {
      "cell_type": "code",
      "source": [
        "df = pd.read_csv('autos.csv', encoding = 'ISO-8859-1')"
      ],
      "metadata": {
        "id": "RP-v73IZE0V0"
      },
      "execution_count": 3,
      "outputs": []
    },
    {
      "cell_type": "code",
      "source": [
        "df"
      ],
      "metadata": {
        "colab": {
          "base_uri": "https://localhost:8080/",
          "height": 835
        },
        "id": "xlvsjddFGQLl",
        "outputId": "749224b4-1ab8-4548-980f-f623d9a43c7b"
      },
      "execution_count": 4,
      "outputs": [
        {
          "output_type": "execute_result",
          "data": {
            "text/plain": [
              "                dateCrawled                                          name  \\\n",
              "0       2016-03-24 11:52:17                                    Golf_3_1.6   \n",
              "1       2016-03-24 10:58:45                          A5_Sportback_2.7_Tdi   \n",
              "2       2016-03-14 12:52:21                Jeep_Grand_Cherokee_\"Overland\"   \n",
              "3       2016-03-17 16:54:04                            GOLF_4_1_4__3TÜRER   \n",
              "4       2016-03-31 17:25:20                Skoda_Fabia_1.4_TDI_PD_Classic   \n",
              "...                     ...                                           ...   \n",
              "371523  2016-03-14 17:48:27                    Suche_t4___vito_ab_6_sitze   \n",
              "371524  2016-03-05 19:56:21         Smart_smart_leistungssteigerung_100ps   \n",
              "371525  2016-03-19 18:57:12            Volkswagen_Multivan_T4_TDI_7DC_UY2   \n",
              "371526  2016-03-20 19:41:08                        VW_Golf_Kombi_1_9l_TDI   \n",
              "371527  2016-03-07 19:39:19  BMW_M135i_vollausgestattet_NP_52.720____Euro   \n",
              "\n",
              "        seller offerType  price   abtest vehicleType  yearOfRegistration  \\\n",
              "0       privat   Angebot    480     test         NaN                1993   \n",
              "1       privat   Angebot  18300     test       coupe                2011   \n",
              "2       privat   Angebot   9800     test         suv                2004   \n",
              "3       privat   Angebot   1500     test  kleinwagen                2001   \n",
              "4       privat   Angebot   3600     test  kleinwagen                2008   \n",
              "...        ...       ...    ...      ...         ...                 ...   \n",
              "371523  privat   Angebot   2200     test         NaN                2005   \n",
              "371524  privat   Angebot   1199     test      cabrio                2000   \n",
              "371525  privat   Angebot   9200     test         bus                1996   \n",
              "371526  privat   Angebot   3400     test       kombi                2002   \n",
              "371527  privat   Angebot  28990  control   limousine                2013   \n",
              "\n",
              "          gearbox  powerPS        model  kilometer  monthOfRegistration  \\\n",
              "0         manuell        0         golf     150000                    0   \n",
              "1         manuell      190          NaN     125000                    5   \n",
              "2       automatik      163        grand     125000                    8   \n",
              "3         manuell       75         golf     150000                    6   \n",
              "4         manuell       69        fabia      90000                    7   \n",
              "...           ...      ...          ...        ...                  ...   \n",
              "371523        NaN        0          NaN      20000                    1   \n",
              "371524  automatik      101       fortwo     125000                    3   \n",
              "371525    manuell      102  transporter     150000                    3   \n",
              "371526    manuell      100         golf     150000                    6   \n",
              "371527    manuell      320      m_reihe      50000                    8   \n",
              "\n",
              "       fuelType           brand notRepairedDamage          dateCreated  \\\n",
              "0        benzin      volkswagen               NaN  2016-03-24 00:00:00   \n",
              "1        diesel            audi                ja  2016-03-24 00:00:00   \n",
              "2        diesel            jeep               NaN  2016-03-14 00:00:00   \n",
              "3        benzin      volkswagen              nein  2016-03-17 00:00:00   \n",
              "4        diesel           skoda              nein  2016-03-31 00:00:00   \n",
              "...         ...             ...               ...                  ...   \n",
              "371523      NaN  sonstige_autos               NaN  2016-03-14 00:00:00   \n",
              "371524   benzin           smart              nein  2016-03-05 00:00:00   \n",
              "371525   diesel      volkswagen              nein  2016-03-19 00:00:00   \n",
              "371526   diesel      volkswagen               NaN  2016-03-20 00:00:00   \n",
              "371527   benzin             bmw              nein  2016-03-07 00:00:00   \n",
              "\n",
              "        nrOfPictures  postalCode             lastSeen  \n",
              "0                  0       70435  2016-04-07 03:16:57  \n",
              "1                  0       66954  2016-04-07 01:46:50  \n",
              "2                  0       90480  2016-04-05 12:47:46  \n",
              "3                  0       91074  2016-03-17 17:40:17  \n",
              "4                  0       60437  2016-04-06 10:17:21  \n",
              "...              ...         ...                  ...  \n",
              "371523             0       39576  2016-04-06 00:46:52  \n",
              "371524             0       26135  2016-03-11 18:17:12  \n",
              "371525             0       87439  2016-04-07 07:15:26  \n",
              "371526             0       40764  2016-03-24 12:45:21  \n",
              "371527             0       73326  2016-03-22 03:17:10  \n",
              "\n",
              "[371528 rows x 20 columns]"
            ],
            "text/html": [
              "\n",
              "  <div id=\"df-2e16e6c5-1275-41bf-bb34-213d5a7c23ed\">\n",
              "    <div class=\"colab-df-container\">\n",
              "      <div>\n",
              "<style scoped>\n",
              "    .dataframe tbody tr th:only-of-type {\n",
              "        vertical-align: middle;\n",
              "    }\n",
              "\n",
              "    .dataframe tbody tr th {\n",
              "        vertical-align: top;\n",
              "    }\n",
              "\n",
              "    .dataframe thead th {\n",
              "        text-align: right;\n",
              "    }\n",
              "</style>\n",
              "<table border=\"1\" class=\"dataframe\">\n",
              "  <thead>\n",
              "    <tr style=\"text-align: right;\">\n",
              "      <th></th>\n",
              "      <th>dateCrawled</th>\n",
              "      <th>name</th>\n",
              "      <th>seller</th>\n",
              "      <th>offerType</th>\n",
              "      <th>price</th>\n",
              "      <th>abtest</th>\n",
              "      <th>vehicleType</th>\n",
              "      <th>yearOfRegistration</th>\n",
              "      <th>gearbox</th>\n",
              "      <th>powerPS</th>\n",
              "      <th>model</th>\n",
              "      <th>kilometer</th>\n",
              "      <th>monthOfRegistration</th>\n",
              "      <th>fuelType</th>\n",
              "      <th>brand</th>\n",
              "      <th>notRepairedDamage</th>\n",
              "      <th>dateCreated</th>\n",
              "      <th>nrOfPictures</th>\n",
              "      <th>postalCode</th>\n",
              "      <th>lastSeen</th>\n",
              "    </tr>\n",
              "  </thead>\n",
              "  <tbody>\n",
              "    <tr>\n",
              "      <th>0</th>\n",
              "      <td>2016-03-24 11:52:17</td>\n",
              "      <td>Golf_3_1.6</td>\n",
              "      <td>privat</td>\n",
              "      <td>Angebot</td>\n",
              "      <td>480</td>\n",
              "      <td>test</td>\n",
              "      <td>NaN</td>\n",
              "      <td>1993</td>\n",
              "      <td>manuell</td>\n",
              "      <td>0</td>\n",
              "      <td>golf</td>\n",
              "      <td>150000</td>\n",
              "      <td>0</td>\n",
              "      <td>benzin</td>\n",
              "      <td>volkswagen</td>\n",
              "      <td>NaN</td>\n",
              "      <td>2016-03-24 00:00:00</td>\n",
              "      <td>0</td>\n",
              "      <td>70435</td>\n",
              "      <td>2016-04-07 03:16:57</td>\n",
              "    </tr>\n",
              "    <tr>\n",
              "      <th>1</th>\n",
              "      <td>2016-03-24 10:58:45</td>\n",
              "      <td>A5_Sportback_2.7_Tdi</td>\n",
              "      <td>privat</td>\n",
              "      <td>Angebot</td>\n",
              "      <td>18300</td>\n",
              "      <td>test</td>\n",
              "      <td>coupe</td>\n",
              "      <td>2011</td>\n",
              "      <td>manuell</td>\n",
              "      <td>190</td>\n",
              "      <td>NaN</td>\n",
              "      <td>125000</td>\n",
              "      <td>5</td>\n",
              "      <td>diesel</td>\n",
              "      <td>audi</td>\n",
              "      <td>ja</td>\n",
              "      <td>2016-03-24 00:00:00</td>\n",
              "      <td>0</td>\n",
              "      <td>66954</td>\n",
              "      <td>2016-04-07 01:46:50</td>\n",
              "    </tr>\n",
              "    <tr>\n",
              "      <th>2</th>\n",
              "      <td>2016-03-14 12:52:21</td>\n",
              "      <td>Jeep_Grand_Cherokee_\"Overland\"</td>\n",
              "      <td>privat</td>\n",
              "      <td>Angebot</td>\n",
              "      <td>9800</td>\n",
              "      <td>test</td>\n",
              "      <td>suv</td>\n",
              "      <td>2004</td>\n",
              "      <td>automatik</td>\n",
              "      <td>163</td>\n",
              "      <td>grand</td>\n",
              "      <td>125000</td>\n",
              "      <td>8</td>\n",
              "      <td>diesel</td>\n",
              "      <td>jeep</td>\n",
              "      <td>NaN</td>\n",
              "      <td>2016-03-14 00:00:00</td>\n",
              "      <td>0</td>\n",
              "      <td>90480</td>\n",
              "      <td>2016-04-05 12:47:46</td>\n",
              "    </tr>\n",
              "    <tr>\n",
              "      <th>3</th>\n",
              "      <td>2016-03-17 16:54:04</td>\n",
              "      <td>GOLF_4_1_4__3TÜRER</td>\n",
              "      <td>privat</td>\n",
              "      <td>Angebot</td>\n",
              "      <td>1500</td>\n",
              "      <td>test</td>\n",
              "      <td>kleinwagen</td>\n",
              "      <td>2001</td>\n",
              "      <td>manuell</td>\n",
              "      <td>75</td>\n",
              "      <td>golf</td>\n",
              "      <td>150000</td>\n",
              "      <td>6</td>\n",
              "      <td>benzin</td>\n",
              "      <td>volkswagen</td>\n",
              "      <td>nein</td>\n",
              "      <td>2016-03-17 00:00:00</td>\n",
              "      <td>0</td>\n",
              "      <td>91074</td>\n",
              "      <td>2016-03-17 17:40:17</td>\n",
              "    </tr>\n",
              "    <tr>\n",
              "      <th>4</th>\n",
              "      <td>2016-03-31 17:25:20</td>\n",
              "      <td>Skoda_Fabia_1.4_TDI_PD_Classic</td>\n",
              "      <td>privat</td>\n",
              "      <td>Angebot</td>\n",
              "      <td>3600</td>\n",
              "      <td>test</td>\n",
              "      <td>kleinwagen</td>\n",
              "      <td>2008</td>\n",
              "      <td>manuell</td>\n",
              "      <td>69</td>\n",
              "      <td>fabia</td>\n",
              "      <td>90000</td>\n",
              "      <td>7</td>\n",
              "      <td>diesel</td>\n",
              "      <td>skoda</td>\n",
              "      <td>nein</td>\n",
              "      <td>2016-03-31 00:00:00</td>\n",
              "      <td>0</td>\n",
              "      <td>60437</td>\n",
              "      <td>2016-04-06 10:17:21</td>\n",
              "    </tr>\n",
              "    <tr>\n",
              "      <th>...</th>\n",
              "      <td>...</td>\n",
              "      <td>...</td>\n",
              "      <td>...</td>\n",
              "      <td>...</td>\n",
              "      <td>...</td>\n",
              "      <td>...</td>\n",
              "      <td>...</td>\n",
              "      <td>...</td>\n",
              "      <td>...</td>\n",
              "      <td>...</td>\n",
              "      <td>...</td>\n",
              "      <td>...</td>\n",
              "      <td>...</td>\n",
              "      <td>...</td>\n",
              "      <td>...</td>\n",
              "      <td>...</td>\n",
              "      <td>...</td>\n",
              "      <td>...</td>\n",
              "      <td>...</td>\n",
              "      <td>...</td>\n",
              "    </tr>\n",
              "    <tr>\n",
              "      <th>371523</th>\n",
              "      <td>2016-03-14 17:48:27</td>\n",
              "      <td>Suche_t4___vito_ab_6_sitze</td>\n",
              "      <td>privat</td>\n",
              "      <td>Angebot</td>\n",
              "      <td>2200</td>\n",
              "      <td>test</td>\n",
              "      <td>NaN</td>\n",
              "      <td>2005</td>\n",
              "      <td>NaN</td>\n",
              "      <td>0</td>\n",
              "      <td>NaN</td>\n",
              "      <td>20000</td>\n",
              "      <td>1</td>\n",
              "      <td>NaN</td>\n",
              "      <td>sonstige_autos</td>\n",
              "      <td>NaN</td>\n",
              "      <td>2016-03-14 00:00:00</td>\n",
              "      <td>0</td>\n",
              "      <td>39576</td>\n",
              "      <td>2016-04-06 00:46:52</td>\n",
              "    </tr>\n",
              "    <tr>\n",
              "      <th>371524</th>\n",
              "      <td>2016-03-05 19:56:21</td>\n",
              "      <td>Smart_smart_leistungssteigerung_100ps</td>\n",
              "      <td>privat</td>\n",
              "      <td>Angebot</td>\n",
              "      <td>1199</td>\n",
              "      <td>test</td>\n",
              "      <td>cabrio</td>\n",
              "      <td>2000</td>\n",
              "      <td>automatik</td>\n",
              "      <td>101</td>\n",
              "      <td>fortwo</td>\n",
              "      <td>125000</td>\n",
              "      <td>3</td>\n",
              "      <td>benzin</td>\n",
              "      <td>smart</td>\n",
              "      <td>nein</td>\n",
              "      <td>2016-03-05 00:00:00</td>\n",
              "      <td>0</td>\n",
              "      <td>26135</td>\n",
              "      <td>2016-03-11 18:17:12</td>\n",
              "    </tr>\n",
              "    <tr>\n",
              "      <th>371525</th>\n",
              "      <td>2016-03-19 18:57:12</td>\n",
              "      <td>Volkswagen_Multivan_T4_TDI_7DC_UY2</td>\n",
              "      <td>privat</td>\n",
              "      <td>Angebot</td>\n",
              "      <td>9200</td>\n",
              "      <td>test</td>\n",
              "      <td>bus</td>\n",
              "      <td>1996</td>\n",
              "      <td>manuell</td>\n",
              "      <td>102</td>\n",
              "      <td>transporter</td>\n",
              "      <td>150000</td>\n",
              "      <td>3</td>\n",
              "      <td>diesel</td>\n",
              "      <td>volkswagen</td>\n",
              "      <td>nein</td>\n",
              "      <td>2016-03-19 00:00:00</td>\n",
              "      <td>0</td>\n",
              "      <td>87439</td>\n",
              "      <td>2016-04-07 07:15:26</td>\n",
              "    </tr>\n",
              "    <tr>\n",
              "      <th>371526</th>\n",
              "      <td>2016-03-20 19:41:08</td>\n",
              "      <td>VW_Golf_Kombi_1_9l_TDI</td>\n",
              "      <td>privat</td>\n",
              "      <td>Angebot</td>\n",
              "      <td>3400</td>\n",
              "      <td>test</td>\n",
              "      <td>kombi</td>\n",
              "      <td>2002</td>\n",
              "      <td>manuell</td>\n",
              "      <td>100</td>\n",
              "      <td>golf</td>\n",
              "      <td>150000</td>\n",
              "      <td>6</td>\n",
              "      <td>diesel</td>\n",
              "      <td>volkswagen</td>\n",
              "      <td>NaN</td>\n",
              "      <td>2016-03-20 00:00:00</td>\n",
              "      <td>0</td>\n",
              "      <td>40764</td>\n",
              "      <td>2016-03-24 12:45:21</td>\n",
              "    </tr>\n",
              "    <tr>\n",
              "      <th>371527</th>\n",
              "      <td>2016-03-07 19:39:19</td>\n",
              "      <td>BMW_M135i_vollausgestattet_NP_52.720____Euro</td>\n",
              "      <td>privat</td>\n",
              "      <td>Angebot</td>\n",
              "      <td>28990</td>\n",
              "      <td>control</td>\n",
              "      <td>limousine</td>\n",
              "      <td>2013</td>\n",
              "      <td>manuell</td>\n",
              "      <td>320</td>\n",
              "      <td>m_reihe</td>\n",
              "      <td>50000</td>\n",
              "      <td>8</td>\n",
              "      <td>benzin</td>\n",
              "      <td>bmw</td>\n",
              "      <td>nein</td>\n",
              "      <td>2016-03-07 00:00:00</td>\n",
              "      <td>0</td>\n",
              "      <td>73326</td>\n",
              "      <td>2016-03-22 03:17:10</td>\n",
              "    </tr>\n",
              "  </tbody>\n",
              "</table>\n",
              "<p>371528 rows × 20 columns</p>\n",
              "</div>\n",
              "      <button class=\"colab-df-convert\" onclick=\"convertToInteractive('df-2e16e6c5-1275-41bf-bb34-213d5a7c23ed')\"\n",
              "              title=\"Convert this dataframe to an interactive table.\"\n",
              "              style=\"display:none;\">\n",
              "        \n",
              "  <svg xmlns=\"http://www.w3.org/2000/svg\" height=\"24px\"viewBox=\"0 0 24 24\"\n",
              "       width=\"24px\">\n",
              "    <path d=\"M0 0h24v24H0V0z\" fill=\"none\"/>\n",
              "    <path d=\"M18.56 5.44l.94 2.06.94-2.06 2.06-.94-2.06-.94-.94-2.06-.94 2.06-2.06.94zm-11 1L8.5 8.5l.94-2.06 2.06-.94-2.06-.94L8.5 2.5l-.94 2.06-2.06.94zm10 10l.94 2.06.94-2.06 2.06-.94-2.06-.94-.94-2.06-.94 2.06-2.06.94z\"/><path d=\"M17.41 7.96l-1.37-1.37c-.4-.4-.92-.59-1.43-.59-.52 0-1.04.2-1.43.59L10.3 9.45l-7.72 7.72c-.78.78-.78 2.05 0 2.83L4 21.41c.39.39.9.59 1.41.59.51 0 1.02-.2 1.41-.59l7.78-7.78 2.81-2.81c.8-.78.8-2.07 0-2.86zM5.41 20L4 18.59l7.72-7.72 1.47 1.35L5.41 20z\"/>\n",
              "  </svg>\n",
              "      </button>\n",
              "      \n",
              "  <style>\n",
              "    .colab-df-container {\n",
              "      display:flex;\n",
              "      flex-wrap:wrap;\n",
              "      gap: 12px;\n",
              "    }\n",
              "\n",
              "    .colab-df-convert {\n",
              "      background-color: #E8F0FE;\n",
              "      border: none;\n",
              "      border-radius: 50%;\n",
              "      cursor: pointer;\n",
              "      display: none;\n",
              "      fill: #1967D2;\n",
              "      height: 32px;\n",
              "      padding: 0 0 0 0;\n",
              "      width: 32px;\n",
              "    }\n",
              "\n",
              "    .colab-df-convert:hover {\n",
              "      background-color: #E2EBFA;\n",
              "      box-shadow: 0px 1px 2px rgba(60, 64, 67, 0.3), 0px 1px 3px 1px rgba(60, 64, 67, 0.15);\n",
              "      fill: #174EA6;\n",
              "    }\n",
              "\n",
              "    [theme=dark] .colab-df-convert {\n",
              "      background-color: #3B4455;\n",
              "      fill: #D2E3FC;\n",
              "    }\n",
              "\n",
              "    [theme=dark] .colab-df-convert:hover {\n",
              "      background-color: #434B5C;\n",
              "      box-shadow: 0px 1px 3px 1px rgba(0, 0, 0, 0.15);\n",
              "      filter: drop-shadow(0px 1px 2px rgba(0, 0, 0, 0.3));\n",
              "      fill: #FFFFFF;\n",
              "    }\n",
              "  </style>\n",
              "\n",
              "      <script>\n",
              "        const buttonEl =\n",
              "          document.querySelector('#df-2e16e6c5-1275-41bf-bb34-213d5a7c23ed button.colab-df-convert');\n",
              "        buttonEl.style.display =\n",
              "          google.colab.kernel.accessAllowed ? 'block' : 'none';\n",
              "\n",
              "        async function convertToInteractive(key) {\n",
              "          const element = document.querySelector('#df-2e16e6c5-1275-41bf-bb34-213d5a7c23ed');\n",
              "          const dataTable =\n",
              "            await google.colab.kernel.invokeFunction('convertToInteractive',\n",
              "                                                     [key], {});\n",
              "          if (!dataTable) return;\n",
              "\n",
              "          const docLinkHtml = 'Like what you see? Visit the ' +\n",
              "            '<a target=\"_blank\" href=https://colab.research.google.com/notebooks/data_table.ipynb>data table notebook</a>'\n",
              "            + ' to learn more about interactive tables.';\n",
              "          element.innerHTML = '';\n",
              "          dataTable['output_type'] = 'display_data';\n",
              "          await google.colab.output.renderOutput(dataTable, element);\n",
              "          const docLink = document.createElement('div');\n",
              "          docLink.innerHTML = docLinkHtml;\n",
              "          element.appendChild(docLink);\n",
              "        }\n",
              "      </script>\n",
              "    </div>\n",
              "  </div>\n",
              "  "
            ]
          },
          "metadata": {},
          "execution_count": 4
        }
      ]
    },
    {
      "cell_type": "markdown",
      "source": [
        "**Retirei algumas outliers, pois alguns dados estão desconexos, exemplo, veículos de 11 milhões de Euros, 99 milhões de Euros, preço abaixo dos 100 Euros, etc.**"
      ],
      "metadata": {
        "id": "TbRXVfY-CQGK"
      }
    },
    {
      "cell_type": "code",
      "source": [
        "df = df[df[\"price\"] > 100]\n",
        "df = df[df[\"price\"] < 350000]"
      ],
      "metadata": {
        "id": "ET9sGyS6GfBi"
      },
      "execution_count": 5,
      "outputs": []
    },
    {
      "cell_type": "markdown",
      "source": [
        "**Verificando valores nulos: Vamos retira-los, pois na criação de modelos de machine learning eles serão tratados:**"
      ],
      "metadata": {
        "id": "csN80--GJvQU"
      }
    },
    {
      "cell_type": "code",
      "source": [
        "df.info()"
      ],
      "metadata": {
        "colab": {
          "base_uri": "https://localhost:8080/"
        },
        "id": "7Wp_6reIH0jd",
        "outputId": "806f8906-34fa-4ea2-c014-c7245e664c4b"
      },
      "execution_count": 6,
      "outputs": [
        {
          "output_type": "stream",
          "name": "stdout",
          "text": [
            "<class 'pandas.core.frame.DataFrame'>\n",
            "Int64Index: 357057 entries, 0 to 371527\n",
            "Data columns (total 20 columns):\n",
            " #   Column               Non-Null Count   Dtype \n",
            "---  ------               --------------   ----- \n",
            " 0   dateCrawled          357057 non-null  object\n",
            " 1   name                 357057 non-null  object\n",
            " 2   seller               357057 non-null  object\n",
            " 3   offerType            357057 non-null  object\n",
            " 4   price                357057 non-null  int64 \n",
            " 5   abtest               357057 non-null  object\n",
            " 6   vehicleType          324462 non-null  object\n",
            " 7   yearOfRegistration   357057 non-null  int64 \n",
            " 8   gearbox              340638 non-null  object\n",
            " 9   powerPS              357057 non-null  int64 \n",
            " 10  model                339432 non-null  object\n",
            " 11  kilometer            357057 non-null  int64 \n",
            " 12  monthOfRegistration  357057 non-null  int64 \n",
            " 13  fuelType             328604 non-null  object\n",
            " 14  brand                357057 non-null  object\n",
            " 15  notRepairedDamage    292331 non-null  object\n",
            " 16  dateCreated          357057 non-null  object\n",
            " 17  nrOfPictures         357057 non-null  int64 \n",
            " 18  postalCode           357057 non-null  int64 \n",
            " 19  lastSeen             357057 non-null  object\n",
            "dtypes: int64(7), object(13)\n",
            "memory usage: 57.2+ MB\n"
          ]
        }
      ]
    },
    {
      "cell_type": "code",
      "source": [
        "df.dropna(inplace=True)"
      ],
      "metadata": {
        "id": "V1x_mLTMJ9kk"
      },
      "execution_count": 7,
      "outputs": []
    },
    {
      "cell_type": "code",
      "source": [
        "df"
      ],
      "metadata": {
        "colab": {
          "base_uri": "https://localhost:8080/",
          "height": 835
        },
        "id": "NfgUQYjZKBU8",
        "outputId": "6230ec5d-7cd6-4bd0-aa64-367766d08f79"
      },
      "execution_count": 8,
      "outputs": [
        {
          "output_type": "execute_result",
          "data": {
            "text/plain": [
              "                dateCrawled  \\\n",
              "3       2016-03-17 16:54:04   \n",
              "4       2016-03-31 17:25:20   \n",
              "5       2016-04-04 17:36:23   \n",
              "6       2016-04-01 20:48:51   \n",
              "10      2016-03-26 19:54:18   \n",
              "...                     ...   \n",
              "371520  2016-03-19 19:53:49   \n",
              "371521  2016-03-27 20:36:20   \n",
              "371524  2016-03-05 19:56:21   \n",
              "371525  2016-03-19 18:57:12   \n",
              "371527  2016-03-07 19:39:19   \n",
              "\n",
              "                                                     name  seller offerType  \\\n",
              "3                                      GOLF_4_1_4__3TÜRER  privat   Angebot   \n",
              "4                          Skoda_Fabia_1.4_TDI_PD_Classic  privat   Angebot   \n",
              "5       BMW_316i___e36_Limousine___Bastlerfahrzeug__Ex...  privat   Angebot   \n",
              "6                             Peugeot_206_CC_110_Platinum  privat   Angebot   \n",
              "10                                      Mazda_3_1.6_Sport  privat   Angebot   \n",
              "...                                                   ...     ...       ...   \n",
              "371520                                       turbo_defekt  privat   Angebot   \n",
              "371521                 Opel_Zafira_1.6_Elegance_TÜV_12/16  privat   Angebot   \n",
              "371524              Smart_smart_leistungssteigerung_100ps  privat   Angebot   \n",
              "371525                 Volkswagen_Multivan_T4_TDI_7DC_UY2  privat   Angebot   \n",
              "371527       BMW_M135i_vollausgestattet_NP_52.720____Euro  privat   Angebot   \n",
              "\n",
              "        price   abtest vehicleType  yearOfRegistration    gearbox  powerPS  \\\n",
              "3        1500     test  kleinwagen                2001    manuell       75   \n",
              "4        3600     test  kleinwagen                2008    manuell       69   \n",
              "5         650     test   limousine                1995    manuell      102   \n",
              "6        2200     test      cabrio                2004    manuell      109   \n",
              "10       2000  control   limousine                2004    manuell      105   \n",
              "...       ...      ...         ...                 ...        ...      ...   \n",
              "371520   3200  control   limousine                2004    manuell      225   \n",
              "371521   1150  control         bus                2000    manuell        0   \n",
              "371524   1199     test      cabrio                2000  automatik      101   \n",
              "371525   9200     test         bus                1996    manuell      102   \n",
              "371527  28990  control   limousine                2013    manuell      320   \n",
              "\n",
              "              model  kilometer  monthOfRegistration fuelType       brand  \\\n",
              "3              golf     150000                    6   benzin  volkswagen   \n",
              "4             fabia      90000                    7   diesel       skoda   \n",
              "5               3er     150000                   10   benzin         bmw   \n",
              "6           2_reihe     150000                    8   benzin     peugeot   \n",
              "10          3_reihe     150000                   12   benzin       mazda   \n",
              "...             ...        ...                  ...      ...         ...   \n",
              "371520         leon     150000                    5   benzin        seat   \n",
              "371521       zafira     150000                    3   benzin        opel   \n",
              "371524       fortwo     125000                    3   benzin       smart   \n",
              "371525  transporter     150000                    3   diesel  volkswagen   \n",
              "371527      m_reihe      50000                    8   benzin         bmw   \n",
              "\n",
              "       notRepairedDamage          dateCreated  nrOfPictures  postalCode  \\\n",
              "3                   nein  2016-03-17 00:00:00             0       91074   \n",
              "4                   nein  2016-03-31 00:00:00             0       60437   \n",
              "5                     ja  2016-04-04 00:00:00             0       33775   \n",
              "6                   nein  2016-04-01 00:00:00             0       67112   \n",
              "10                  nein  2016-03-26 00:00:00             0       96224   \n",
              "...                  ...                  ...           ...         ...   \n",
              "371520                ja  2016-03-19 00:00:00             0       96465   \n",
              "371521              nein  2016-03-27 00:00:00             0       26624   \n",
              "371524              nein  2016-03-05 00:00:00             0       26135   \n",
              "371525              nein  2016-03-19 00:00:00             0       87439   \n",
              "371527              nein  2016-03-07 00:00:00             0       73326   \n",
              "\n",
              "                   lastSeen  \n",
              "3       2016-03-17 17:40:17  \n",
              "4       2016-04-06 10:17:21  \n",
              "5       2016-04-06 19:17:07  \n",
              "6       2016-04-05 18:18:39  \n",
              "10      2016-04-06 10:45:34  \n",
              "...                     ...  \n",
              "371520  2016-03-19 20:44:43  \n",
              "371521  2016-03-29 10:17:23  \n",
              "371524  2016-03-11 18:17:12  \n",
              "371525  2016-04-07 07:15:26  \n",
              "371527  2016-03-22 03:17:10  \n",
              "\n",
              "[256568 rows x 20 columns]"
            ],
            "text/html": [
              "\n",
              "  <div id=\"df-cdf2bc33-add8-4912-808b-82910109f840\">\n",
              "    <div class=\"colab-df-container\">\n",
              "      <div>\n",
              "<style scoped>\n",
              "    .dataframe tbody tr th:only-of-type {\n",
              "        vertical-align: middle;\n",
              "    }\n",
              "\n",
              "    .dataframe tbody tr th {\n",
              "        vertical-align: top;\n",
              "    }\n",
              "\n",
              "    .dataframe thead th {\n",
              "        text-align: right;\n",
              "    }\n",
              "</style>\n",
              "<table border=\"1\" class=\"dataframe\">\n",
              "  <thead>\n",
              "    <tr style=\"text-align: right;\">\n",
              "      <th></th>\n",
              "      <th>dateCrawled</th>\n",
              "      <th>name</th>\n",
              "      <th>seller</th>\n",
              "      <th>offerType</th>\n",
              "      <th>price</th>\n",
              "      <th>abtest</th>\n",
              "      <th>vehicleType</th>\n",
              "      <th>yearOfRegistration</th>\n",
              "      <th>gearbox</th>\n",
              "      <th>powerPS</th>\n",
              "      <th>model</th>\n",
              "      <th>kilometer</th>\n",
              "      <th>monthOfRegistration</th>\n",
              "      <th>fuelType</th>\n",
              "      <th>brand</th>\n",
              "      <th>notRepairedDamage</th>\n",
              "      <th>dateCreated</th>\n",
              "      <th>nrOfPictures</th>\n",
              "      <th>postalCode</th>\n",
              "      <th>lastSeen</th>\n",
              "    </tr>\n",
              "  </thead>\n",
              "  <tbody>\n",
              "    <tr>\n",
              "      <th>3</th>\n",
              "      <td>2016-03-17 16:54:04</td>\n",
              "      <td>GOLF_4_1_4__3TÜRER</td>\n",
              "      <td>privat</td>\n",
              "      <td>Angebot</td>\n",
              "      <td>1500</td>\n",
              "      <td>test</td>\n",
              "      <td>kleinwagen</td>\n",
              "      <td>2001</td>\n",
              "      <td>manuell</td>\n",
              "      <td>75</td>\n",
              "      <td>golf</td>\n",
              "      <td>150000</td>\n",
              "      <td>6</td>\n",
              "      <td>benzin</td>\n",
              "      <td>volkswagen</td>\n",
              "      <td>nein</td>\n",
              "      <td>2016-03-17 00:00:00</td>\n",
              "      <td>0</td>\n",
              "      <td>91074</td>\n",
              "      <td>2016-03-17 17:40:17</td>\n",
              "    </tr>\n",
              "    <tr>\n",
              "      <th>4</th>\n",
              "      <td>2016-03-31 17:25:20</td>\n",
              "      <td>Skoda_Fabia_1.4_TDI_PD_Classic</td>\n",
              "      <td>privat</td>\n",
              "      <td>Angebot</td>\n",
              "      <td>3600</td>\n",
              "      <td>test</td>\n",
              "      <td>kleinwagen</td>\n",
              "      <td>2008</td>\n",
              "      <td>manuell</td>\n",
              "      <td>69</td>\n",
              "      <td>fabia</td>\n",
              "      <td>90000</td>\n",
              "      <td>7</td>\n",
              "      <td>diesel</td>\n",
              "      <td>skoda</td>\n",
              "      <td>nein</td>\n",
              "      <td>2016-03-31 00:00:00</td>\n",
              "      <td>0</td>\n",
              "      <td>60437</td>\n",
              "      <td>2016-04-06 10:17:21</td>\n",
              "    </tr>\n",
              "    <tr>\n",
              "      <th>5</th>\n",
              "      <td>2016-04-04 17:36:23</td>\n",
              "      <td>BMW_316i___e36_Limousine___Bastlerfahrzeug__Ex...</td>\n",
              "      <td>privat</td>\n",
              "      <td>Angebot</td>\n",
              "      <td>650</td>\n",
              "      <td>test</td>\n",
              "      <td>limousine</td>\n",
              "      <td>1995</td>\n",
              "      <td>manuell</td>\n",
              "      <td>102</td>\n",
              "      <td>3er</td>\n",
              "      <td>150000</td>\n",
              "      <td>10</td>\n",
              "      <td>benzin</td>\n",
              "      <td>bmw</td>\n",
              "      <td>ja</td>\n",
              "      <td>2016-04-04 00:00:00</td>\n",
              "      <td>0</td>\n",
              "      <td>33775</td>\n",
              "      <td>2016-04-06 19:17:07</td>\n",
              "    </tr>\n",
              "    <tr>\n",
              "      <th>6</th>\n",
              "      <td>2016-04-01 20:48:51</td>\n",
              "      <td>Peugeot_206_CC_110_Platinum</td>\n",
              "      <td>privat</td>\n",
              "      <td>Angebot</td>\n",
              "      <td>2200</td>\n",
              "      <td>test</td>\n",
              "      <td>cabrio</td>\n",
              "      <td>2004</td>\n",
              "      <td>manuell</td>\n",
              "      <td>109</td>\n",
              "      <td>2_reihe</td>\n",
              "      <td>150000</td>\n",
              "      <td>8</td>\n",
              "      <td>benzin</td>\n",
              "      <td>peugeot</td>\n",
              "      <td>nein</td>\n",
              "      <td>2016-04-01 00:00:00</td>\n",
              "      <td>0</td>\n",
              "      <td>67112</td>\n",
              "      <td>2016-04-05 18:18:39</td>\n",
              "    </tr>\n",
              "    <tr>\n",
              "      <th>10</th>\n",
              "      <td>2016-03-26 19:54:18</td>\n",
              "      <td>Mazda_3_1.6_Sport</td>\n",
              "      <td>privat</td>\n",
              "      <td>Angebot</td>\n",
              "      <td>2000</td>\n",
              "      <td>control</td>\n",
              "      <td>limousine</td>\n",
              "      <td>2004</td>\n",
              "      <td>manuell</td>\n",
              "      <td>105</td>\n",
              "      <td>3_reihe</td>\n",
              "      <td>150000</td>\n",
              "      <td>12</td>\n",
              "      <td>benzin</td>\n",
              "      <td>mazda</td>\n",
              "      <td>nein</td>\n",
              "      <td>2016-03-26 00:00:00</td>\n",
              "      <td>0</td>\n",
              "      <td>96224</td>\n",
              "      <td>2016-04-06 10:45:34</td>\n",
              "    </tr>\n",
              "    <tr>\n",
              "      <th>...</th>\n",
              "      <td>...</td>\n",
              "      <td>...</td>\n",
              "      <td>...</td>\n",
              "      <td>...</td>\n",
              "      <td>...</td>\n",
              "      <td>...</td>\n",
              "      <td>...</td>\n",
              "      <td>...</td>\n",
              "      <td>...</td>\n",
              "      <td>...</td>\n",
              "      <td>...</td>\n",
              "      <td>...</td>\n",
              "      <td>...</td>\n",
              "      <td>...</td>\n",
              "      <td>...</td>\n",
              "      <td>...</td>\n",
              "      <td>...</td>\n",
              "      <td>...</td>\n",
              "      <td>...</td>\n",
              "      <td>...</td>\n",
              "    </tr>\n",
              "    <tr>\n",
              "      <th>371520</th>\n",
              "      <td>2016-03-19 19:53:49</td>\n",
              "      <td>turbo_defekt</td>\n",
              "      <td>privat</td>\n",
              "      <td>Angebot</td>\n",
              "      <td>3200</td>\n",
              "      <td>control</td>\n",
              "      <td>limousine</td>\n",
              "      <td>2004</td>\n",
              "      <td>manuell</td>\n",
              "      <td>225</td>\n",
              "      <td>leon</td>\n",
              "      <td>150000</td>\n",
              "      <td>5</td>\n",
              "      <td>benzin</td>\n",
              "      <td>seat</td>\n",
              "      <td>ja</td>\n",
              "      <td>2016-03-19 00:00:00</td>\n",
              "      <td>0</td>\n",
              "      <td>96465</td>\n",
              "      <td>2016-03-19 20:44:43</td>\n",
              "    </tr>\n",
              "    <tr>\n",
              "      <th>371521</th>\n",
              "      <td>2016-03-27 20:36:20</td>\n",
              "      <td>Opel_Zafira_1.6_Elegance_TÜV_12/16</td>\n",
              "      <td>privat</td>\n",
              "      <td>Angebot</td>\n",
              "      <td>1150</td>\n",
              "      <td>control</td>\n",
              "      <td>bus</td>\n",
              "      <td>2000</td>\n",
              "      <td>manuell</td>\n",
              "      <td>0</td>\n",
              "      <td>zafira</td>\n",
              "      <td>150000</td>\n",
              "      <td>3</td>\n",
              "      <td>benzin</td>\n",
              "      <td>opel</td>\n",
              "      <td>nein</td>\n",
              "      <td>2016-03-27 00:00:00</td>\n",
              "      <td>0</td>\n",
              "      <td>26624</td>\n",
              "      <td>2016-03-29 10:17:23</td>\n",
              "    </tr>\n",
              "    <tr>\n",
              "      <th>371524</th>\n",
              "      <td>2016-03-05 19:56:21</td>\n",
              "      <td>Smart_smart_leistungssteigerung_100ps</td>\n",
              "      <td>privat</td>\n",
              "      <td>Angebot</td>\n",
              "      <td>1199</td>\n",
              "      <td>test</td>\n",
              "      <td>cabrio</td>\n",
              "      <td>2000</td>\n",
              "      <td>automatik</td>\n",
              "      <td>101</td>\n",
              "      <td>fortwo</td>\n",
              "      <td>125000</td>\n",
              "      <td>3</td>\n",
              "      <td>benzin</td>\n",
              "      <td>smart</td>\n",
              "      <td>nein</td>\n",
              "      <td>2016-03-05 00:00:00</td>\n",
              "      <td>0</td>\n",
              "      <td>26135</td>\n",
              "      <td>2016-03-11 18:17:12</td>\n",
              "    </tr>\n",
              "    <tr>\n",
              "      <th>371525</th>\n",
              "      <td>2016-03-19 18:57:12</td>\n",
              "      <td>Volkswagen_Multivan_T4_TDI_7DC_UY2</td>\n",
              "      <td>privat</td>\n",
              "      <td>Angebot</td>\n",
              "      <td>9200</td>\n",
              "      <td>test</td>\n",
              "      <td>bus</td>\n",
              "      <td>1996</td>\n",
              "      <td>manuell</td>\n",
              "      <td>102</td>\n",
              "      <td>transporter</td>\n",
              "      <td>150000</td>\n",
              "      <td>3</td>\n",
              "      <td>diesel</td>\n",
              "      <td>volkswagen</td>\n",
              "      <td>nein</td>\n",
              "      <td>2016-03-19 00:00:00</td>\n",
              "      <td>0</td>\n",
              "      <td>87439</td>\n",
              "      <td>2016-04-07 07:15:26</td>\n",
              "    </tr>\n",
              "    <tr>\n",
              "      <th>371527</th>\n",
              "      <td>2016-03-07 19:39:19</td>\n",
              "      <td>BMW_M135i_vollausgestattet_NP_52.720____Euro</td>\n",
              "      <td>privat</td>\n",
              "      <td>Angebot</td>\n",
              "      <td>28990</td>\n",
              "      <td>control</td>\n",
              "      <td>limousine</td>\n",
              "      <td>2013</td>\n",
              "      <td>manuell</td>\n",
              "      <td>320</td>\n",
              "      <td>m_reihe</td>\n",
              "      <td>50000</td>\n",
              "      <td>8</td>\n",
              "      <td>benzin</td>\n",
              "      <td>bmw</td>\n",
              "      <td>nein</td>\n",
              "      <td>2016-03-07 00:00:00</td>\n",
              "      <td>0</td>\n",
              "      <td>73326</td>\n",
              "      <td>2016-03-22 03:17:10</td>\n",
              "    </tr>\n",
              "  </tbody>\n",
              "</table>\n",
              "<p>256568 rows × 20 columns</p>\n",
              "</div>\n",
              "      <button class=\"colab-df-convert\" onclick=\"convertToInteractive('df-cdf2bc33-add8-4912-808b-82910109f840')\"\n",
              "              title=\"Convert this dataframe to an interactive table.\"\n",
              "              style=\"display:none;\">\n",
              "        \n",
              "  <svg xmlns=\"http://www.w3.org/2000/svg\" height=\"24px\"viewBox=\"0 0 24 24\"\n",
              "       width=\"24px\">\n",
              "    <path d=\"M0 0h24v24H0V0z\" fill=\"none\"/>\n",
              "    <path d=\"M18.56 5.44l.94 2.06.94-2.06 2.06-.94-2.06-.94-.94-2.06-.94 2.06-2.06.94zm-11 1L8.5 8.5l.94-2.06 2.06-.94-2.06-.94L8.5 2.5l-.94 2.06-2.06.94zm10 10l.94 2.06.94-2.06 2.06-.94-2.06-.94-.94-2.06-.94 2.06-2.06.94z\"/><path d=\"M17.41 7.96l-1.37-1.37c-.4-.4-.92-.59-1.43-.59-.52 0-1.04.2-1.43.59L10.3 9.45l-7.72 7.72c-.78.78-.78 2.05 0 2.83L4 21.41c.39.39.9.59 1.41.59.51 0 1.02-.2 1.41-.59l7.78-7.78 2.81-2.81c.8-.78.8-2.07 0-2.86zM5.41 20L4 18.59l7.72-7.72 1.47 1.35L5.41 20z\"/>\n",
              "  </svg>\n",
              "      </button>\n",
              "      \n",
              "  <style>\n",
              "    .colab-df-container {\n",
              "      display:flex;\n",
              "      flex-wrap:wrap;\n",
              "      gap: 12px;\n",
              "    }\n",
              "\n",
              "    .colab-df-convert {\n",
              "      background-color: #E8F0FE;\n",
              "      border: none;\n",
              "      border-radius: 50%;\n",
              "      cursor: pointer;\n",
              "      display: none;\n",
              "      fill: #1967D2;\n",
              "      height: 32px;\n",
              "      padding: 0 0 0 0;\n",
              "      width: 32px;\n",
              "    }\n",
              "\n",
              "    .colab-df-convert:hover {\n",
              "      background-color: #E2EBFA;\n",
              "      box-shadow: 0px 1px 2px rgba(60, 64, 67, 0.3), 0px 1px 3px 1px rgba(60, 64, 67, 0.15);\n",
              "      fill: #174EA6;\n",
              "    }\n",
              "\n",
              "    [theme=dark] .colab-df-convert {\n",
              "      background-color: #3B4455;\n",
              "      fill: #D2E3FC;\n",
              "    }\n",
              "\n",
              "    [theme=dark] .colab-df-convert:hover {\n",
              "      background-color: #434B5C;\n",
              "      box-shadow: 0px 1px 3px 1px rgba(0, 0, 0, 0.15);\n",
              "      filter: drop-shadow(0px 1px 2px rgba(0, 0, 0, 0.3));\n",
              "      fill: #FFFFFF;\n",
              "    }\n",
              "  </style>\n",
              "\n",
              "      <script>\n",
              "        const buttonEl =\n",
              "          document.querySelector('#df-cdf2bc33-add8-4912-808b-82910109f840 button.colab-df-convert');\n",
              "        buttonEl.style.display =\n",
              "          google.colab.kernel.accessAllowed ? 'block' : 'none';\n",
              "\n",
              "        async function convertToInteractive(key) {\n",
              "          const element = document.querySelector('#df-cdf2bc33-add8-4912-808b-82910109f840');\n",
              "          const dataTable =\n",
              "            await google.colab.kernel.invokeFunction('convertToInteractive',\n",
              "                                                     [key], {});\n",
              "          if (!dataTable) return;\n",
              "\n",
              "          const docLinkHtml = 'Like what you see? Visit the ' +\n",
              "            '<a target=\"_blank\" href=https://colab.research.google.com/notebooks/data_table.ipynb>data table notebook</a>'\n",
              "            + ' to learn more about interactive tables.';\n",
              "          element.innerHTML = '';\n",
              "          dataTable['output_type'] = 'display_data';\n",
              "          await google.colab.output.renderOutput(dataTable, element);\n",
              "          const docLink = document.createElement('div');\n",
              "          docLink.innerHTML = docLinkHtml;\n",
              "          element.appendChild(docLink);\n",
              "        }\n",
              "      </script>\n",
              "    </div>\n",
              "  </div>\n",
              "  "
            ]
          },
          "metadata": {},
          "execution_count": 8
        }
      ]
    },
    {
      "cell_type": "markdown",
      "source": [
        "**Vamos também retirar algumas Features, algumas delas contém 2 tipos de amostras, sendo que um dos tipos só tem 1 amostra, não será válido, por exemplo, a \"seller\" é dividida em privada e comercial, só existe 1 amostra como comercial.**"
      ],
      "metadata": {
        "id": "UqUIogveKMSh"
      }
    },
    {
      "cell_type": "code",
      "source": [
        "df.drop(columns=[\"name\", \"dateCrawled\", \"dateCreated\", \"lastSeen\", \"postalCode\", \"seller\", \"offerType\", \"nrOfPictures\"], inplace=True)"
      ],
      "metadata": {
        "id": "kk1FEwyvKqv7"
      },
      "execution_count": 9,
      "outputs": []
    },
    {
      "cell_type": "code",
      "source": [
        "df"
      ],
      "metadata": {
        "colab": {
          "base_uri": "https://localhost:8080/",
          "height": 424
        },
        "id": "hJD0oimlK9js",
        "outputId": "297606e6-808a-44ba-e2cd-e0339cdcf87d"
      },
      "execution_count": 10,
      "outputs": [
        {
          "output_type": "execute_result",
          "data": {
            "text/plain": [
              "        price   abtest vehicleType  yearOfRegistration    gearbox  powerPS  \\\n",
              "3        1500     test  kleinwagen                2001    manuell       75   \n",
              "4        3600     test  kleinwagen                2008    manuell       69   \n",
              "5         650     test   limousine                1995    manuell      102   \n",
              "6        2200     test      cabrio                2004    manuell      109   \n",
              "10       2000  control   limousine                2004    manuell      105   \n",
              "...       ...      ...         ...                 ...        ...      ...   \n",
              "371520   3200  control   limousine                2004    manuell      225   \n",
              "371521   1150  control         bus                2000    manuell        0   \n",
              "371524   1199     test      cabrio                2000  automatik      101   \n",
              "371525   9200     test         bus                1996    manuell      102   \n",
              "371527  28990  control   limousine                2013    manuell      320   \n",
              "\n",
              "              model  kilometer  monthOfRegistration fuelType       brand  \\\n",
              "3              golf     150000                    6   benzin  volkswagen   \n",
              "4             fabia      90000                    7   diesel       skoda   \n",
              "5               3er     150000                   10   benzin         bmw   \n",
              "6           2_reihe     150000                    8   benzin     peugeot   \n",
              "10          3_reihe     150000                   12   benzin       mazda   \n",
              "...             ...        ...                  ...      ...         ...   \n",
              "371520         leon     150000                    5   benzin        seat   \n",
              "371521       zafira     150000                    3   benzin        opel   \n",
              "371524       fortwo     125000                    3   benzin       smart   \n",
              "371525  transporter     150000                    3   diesel  volkswagen   \n",
              "371527      m_reihe      50000                    8   benzin         bmw   \n",
              "\n",
              "       notRepairedDamage  \n",
              "3                   nein  \n",
              "4                   nein  \n",
              "5                     ja  \n",
              "6                   nein  \n",
              "10                  nein  \n",
              "...                  ...  \n",
              "371520                ja  \n",
              "371521              nein  \n",
              "371524              nein  \n",
              "371525              nein  \n",
              "371527              nein  \n",
              "\n",
              "[256568 rows x 12 columns]"
            ],
            "text/html": [
              "\n",
              "  <div id=\"df-01cc73a7-0b60-4d32-9a56-65bdbbda4cf1\">\n",
              "    <div class=\"colab-df-container\">\n",
              "      <div>\n",
              "<style scoped>\n",
              "    .dataframe tbody tr th:only-of-type {\n",
              "        vertical-align: middle;\n",
              "    }\n",
              "\n",
              "    .dataframe tbody tr th {\n",
              "        vertical-align: top;\n",
              "    }\n",
              "\n",
              "    .dataframe thead th {\n",
              "        text-align: right;\n",
              "    }\n",
              "</style>\n",
              "<table border=\"1\" class=\"dataframe\">\n",
              "  <thead>\n",
              "    <tr style=\"text-align: right;\">\n",
              "      <th></th>\n",
              "      <th>price</th>\n",
              "      <th>abtest</th>\n",
              "      <th>vehicleType</th>\n",
              "      <th>yearOfRegistration</th>\n",
              "      <th>gearbox</th>\n",
              "      <th>powerPS</th>\n",
              "      <th>model</th>\n",
              "      <th>kilometer</th>\n",
              "      <th>monthOfRegistration</th>\n",
              "      <th>fuelType</th>\n",
              "      <th>brand</th>\n",
              "      <th>notRepairedDamage</th>\n",
              "    </tr>\n",
              "  </thead>\n",
              "  <tbody>\n",
              "    <tr>\n",
              "      <th>3</th>\n",
              "      <td>1500</td>\n",
              "      <td>test</td>\n",
              "      <td>kleinwagen</td>\n",
              "      <td>2001</td>\n",
              "      <td>manuell</td>\n",
              "      <td>75</td>\n",
              "      <td>golf</td>\n",
              "      <td>150000</td>\n",
              "      <td>6</td>\n",
              "      <td>benzin</td>\n",
              "      <td>volkswagen</td>\n",
              "      <td>nein</td>\n",
              "    </tr>\n",
              "    <tr>\n",
              "      <th>4</th>\n",
              "      <td>3600</td>\n",
              "      <td>test</td>\n",
              "      <td>kleinwagen</td>\n",
              "      <td>2008</td>\n",
              "      <td>manuell</td>\n",
              "      <td>69</td>\n",
              "      <td>fabia</td>\n",
              "      <td>90000</td>\n",
              "      <td>7</td>\n",
              "      <td>diesel</td>\n",
              "      <td>skoda</td>\n",
              "      <td>nein</td>\n",
              "    </tr>\n",
              "    <tr>\n",
              "      <th>5</th>\n",
              "      <td>650</td>\n",
              "      <td>test</td>\n",
              "      <td>limousine</td>\n",
              "      <td>1995</td>\n",
              "      <td>manuell</td>\n",
              "      <td>102</td>\n",
              "      <td>3er</td>\n",
              "      <td>150000</td>\n",
              "      <td>10</td>\n",
              "      <td>benzin</td>\n",
              "      <td>bmw</td>\n",
              "      <td>ja</td>\n",
              "    </tr>\n",
              "    <tr>\n",
              "      <th>6</th>\n",
              "      <td>2200</td>\n",
              "      <td>test</td>\n",
              "      <td>cabrio</td>\n",
              "      <td>2004</td>\n",
              "      <td>manuell</td>\n",
              "      <td>109</td>\n",
              "      <td>2_reihe</td>\n",
              "      <td>150000</td>\n",
              "      <td>8</td>\n",
              "      <td>benzin</td>\n",
              "      <td>peugeot</td>\n",
              "      <td>nein</td>\n",
              "    </tr>\n",
              "    <tr>\n",
              "      <th>10</th>\n",
              "      <td>2000</td>\n",
              "      <td>control</td>\n",
              "      <td>limousine</td>\n",
              "      <td>2004</td>\n",
              "      <td>manuell</td>\n",
              "      <td>105</td>\n",
              "      <td>3_reihe</td>\n",
              "      <td>150000</td>\n",
              "      <td>12</td>\n",
              "      <td>benzin</td>\n",
              "      <td>mazda</td>\n",
              "      <td>nein</td>\n",
              "    </tr>\n",
              "    <tr>\n",
              "      <th>...</th>\n",
              "      <td>...</td>\n",
              "      <td>...</td>\n",
              "      <td>...</td>\n",
              "      <td>...</td>\n",
              "      <td>...</td>\n",
              "      <td>...</td>\n",
              "      <td>...</td>\n",
              "      <td>...</td>\n",
              "      <td>...</td>\n",
              "      <td>...</td>\n",
              "      <td>...</td>\n",
              "      <td>...</td>\n",
              "    </tr>\n",
              "    <tr>\n",
              "      <th>371520</th>\n",
              "      <td>3200</td>\n",
              "      <td>control</td>\n",
              "      <td>limousine</td>\n",
              "      <td>2004</td>\n",
              "      <td>manuell</td>\n",
              "      <td>225</td>\n",
              "      <td>leon</td>\n",
              "      <td>150000</td>\n",
              "      <td>5</td>\n",
              "      <td>benzin</td>\n",
              "      <td>seat</td>\n",
              "      <td>ja</td>\n",
              "    </tr>\n",
              "    <tr>\n",
              "      <th>371521</th>\n",
              "      <td>1150</td>\n",
              "      <td>control</td>\n",
              "      <td>bus</td>\n",
              "      <td>2000</td>\n",
              "      <td>manuell</td>\n",
              "      <td>0</td>\n",
              "      <td>zafira</td>\n",
              "      <td>150000</td>\n",
              "      <td>3</td>\n",
              "      <td>benzin</td>\n",
              "      <td>opel</td>\n",
              "      <td>nein</td>\n",
              "    </tr>\n",
              "    <tr>\n",
              "      <th>371524</th>\n",
              "      <td>1199</td>\n",
              "      <td>test</td>\n",
              "      <td>cabrio</td>\n",
              "      <td>2000</td>\n",
              "      <td>automatik</td>\n",
              "      <td>101</td>\n",
              "      <td>fortwo</td>\n",
              "      <td>125000</td>\n",
              "      <td>3</td>\n",
              "      <td>benzin</td>\n",
              "      <td>smart</td>\n",
              "      <td>nein</td>\n",
              "    </tr>\n",
              "    <tr>\n",
              "      <th>371525</th>\n",
              "      <td>9200</td>\n",
              "      <td>test</td>\n",
              "      <td>bus</td>\n",
              "      <td>1996</td>\n",
              "      <td>manuell</td>\n",
              "      <td>102</td>\n",
              "      <td>transporter</td>\n",
              "      <td>150000</td>\n",
              "      <td>3</td>\n",
              "      <td>diesel</td>\n",
              "      <td>volkswagen</td>\n",
              "      <td>nein</td>\n",
              "    </tr>\n",
              "    <tr>\n",
              "      <th>371527</th>\n",
              "      <td>28990</td>\n",
              "      <td>control</td>\n",
              "      <td>limousine</td>\n",
              "      <td>2013</td>\n",
              "      <td>manuell</td>\n",
              "      <td>320</td>\n",
              "      <td>m_reihe</td>\n",
              "      <td>50000</td>\n",
              "      <td>8</td>\n",
              "      <td>benzin</td>\n",
              "      <td>bmw</td>\n",
              "      <td>nein</td>\n",
              "    </tr>\n",
              "  </tbody>\n",
              "</table>\n",
              "<p>256568 rows × 12 columns</p>\n",
              "</div>\n",
              "      <button class=\"colab-df-convert\" onclick=\"convertToInteractive('df-01cc73a7-0b60-4d32-9a56-65bdbbda4cf1')\"\n",
              "              title=\"Convert this dataframe to an interactive table.\"\n",
              "              style=\"display:none;\">\n",
              "        \n",
              "  <svg xmlns=\"http://www.w3.org/2000/svg\" height=\"24px\"viewBox=\"0 0 24 24\"\n",
              "       width=\"24px\">\n",
              "    <path d=\"M0 0h24v24H0V0z\" fill=\"none\"/>\n",
              "    <path d=\"M18.56 5.44l.94 2.06.94-2.06 2.06-.94-2.06-.94-.94-2.06-.94 2.06-2.06.94zm-11 1L8.5 8.5l.94-2.06 2.06-.94-2.06-.94L8.5 2.5l-.94 2.06-2.06.94zm10 10l.94 2.06.94-2.06 2.06-.94-2.06-.94-.94-2.06-.94 2.06-2.06.94z\"/><path d=\"M17.41 7.96l-1.37-1.37c-.4-.4-.92-.59-1.43-.59-.52 0-1.04.2-1.43.59L10.3 9.45l-7.72 7.72c-.78.78-.78 2.05 0 2.83L4 21.41c.39.39.9.59 1.41.59.51 0 1.02-.2 1.41-.59l7.78-7.78 2.81-2.81c.8-.78.8-2.07 0-2.86zM5.41 20L4 18.59l7.72-7.72 1.47 1.35L5.41 20z\"/>\n",
              "  </svg>\n",
              "      </button>\n",
              "      \n",
              "  <style>\n",
              "    .colab-df-container {\n",
              "      display:flex;\n",
              "      flex-wrap:wrap;\n",
              "      gap: 12px;\n",
              "    }\n",
              "\n",
              "    .colab-df-convert {\n",
              "      background-color: #E8F0FE;\n",
              "      border: none;\n",
              "      border-radius: 50%;\n",
              "      cursor: pointer;\n",
              "      display: none;\n",
              "      fill: #1967D2;\n",
              "      height: 32px;\n",
              "      padding: 0 0 0 0;\n",
              "      width: 32px;\n",
              "    }\n",
              "\n",
              "    .colab-df-convert:hover {\n",
              "      background-color: #E2EBFA;\n",
              "      box-shadow: 0px 1px 2px rgba(60, 64, 67, 0.3), 0px 1px 3px 1px rgba(60, 64, 67, 0.15);\n",
              "      fill: #174EA6;\n",
              "    }\n",
              "\n",
              "    [theme=dark] .colab-df-convert {\n",
              "      background-color: #3B4455;\n",
              "      fill: #D2E3FC;\n",
              "    }\n",
              "\n",
              "    [theme=dark] .colab-df-convert:hover {\n",
              "      background-color: #434B5C;\n",
              "      box-shadow: 0px 1px 3px 1px rgba(0, 0, 0, 0.15);\n",
              "      filter: drop-shadow(0px 1px 2px rgba(0, 0, 0, 0.3));\n",
              "      fill: #FFFFFF;\n",
              "    }\n",
              "  </style>\n",
              "\n",
              "      <script>\n",
              "        const buttonEl =\n",
              "          document.querySelector('#df-01cc73a7-0b60-4d32-9a56-65bdbbda4cf1 button.colab-df-convert');\n",
              "        buttonEl.style.display =\n",
              "          google.colab.kernel.accessAllowed ? 'block' : 'none';\n",
              "\n",
              "        async function convertToInteractive(key) {\n",
              "          const element = document.querySelector('#df-01cc73a7-0b60-4d32-9a56-65bdbbda4cf1');\n",
              "          const dataTable =\n",
              "            await google.colab.kernel.invokeFunction('convertToInteractive',\n",
              "                                                     [key], {});\n",
              "          if (!dataTable) return;\n",
              "\n",
              "          const docLinkHtml = 'Like what you see? Visit the ' +\n",
              "            '<a target=\"_blank\" href=https://colab.research.google.com/notebooks/data_table.ipynb>data table notebook</a>'\n",
              "            + ' to learn more about interactive tables.';\n",
              "          element.innerHTML = '';\n",
              "          dataTable['output_type'] = 'display_data';\n",
              "          await google.colab.output.renderOutput(dataTable, element);\n",
              "          const docLink = document.createElement('div');\n",
              "          docLink.innerHTML = docLinkHtml;\n",
              "          element.appendChild(docLink);\n",
              "        }\n",
              "      </script>\n",
              "    </div>\n",
              "  </div>\n",
              "  "
            ]
          },
          "metadata": {},
          "execution_count": 10
        }
      ]
    },
    {
      "cell_type": "code",
      "source": [
        "df.info()"
      ],
      "metadata": {
        "colab": {
          "base_uri": "https://localhost:8080/"
        },
        "id": "qfxkMbrVOWI0",
        "outputId": "467bd39a-4827-482e-e97f-129911ebea68"
      },
      "execution_count": 11,
      "outputs": [
        {
          "output_type": "stream",
          "name": "stdout",
          "text": [
            "<class 'pandas.core.frame.DataFrame'>\n",
            "Int64Index: 256568 entries, 3 to 371527\n",
            "Data columns (total 12 columns):\n",
            " #   Column               Non-Null Count   Dtype \n",
            "---  ------               --------------   ----- \n",
            " 0   price                256568 non-null  int64 \n",
            " 1   abtest               256568 non-null  object\n",
            " 2   vehicleType          256568 non-null  object\n",
            " 3   yearOfRegistration   256568 non-null  int64 \n",
            " 4   gearbox              256568 non-null  object\n",
            " 5   powerPS              256568 non-null  int64 \n",
            " 6   model                256568 non-null  object\n",
            " 7   kilometer            256568 non-null  int64 \n",
            " 8   monthOfRegistration  256568 non-null  int64 \n",
            " 9   fuelType             256568 non-null  object\n",
            " 10  brand                256568 non-null  object\n",
            " 11  notRepairedDamage    256568 non-null  object\n",
            "dtypes: int64(5), object(7)\n",
            "memory usage: 25.4+ MB\n"
          ]
        }
      ]
    },
    {
      "cell_type": "markdown",
      "metadata": {
        "id": "niv8qNZsfqQW"
      },
      "source": [
        "## **Analisando estatísticamente o Target - Price**"
      ]
    },
    {
      "cell_type": "markdown",
      "metadata": {
        "id": "8hInTToQpcBK"
      },
      "source": [
        "### **Correlação:**"
      ]
    },
    {
      "cell_type": "markdown",
      "metadata": {
        "id": "k7UNv_XRzCjk"
      },
      "source": [
        "**Vemos abaixo nos dois gráficos que há correlações positivas altas e baixas e negativas de acordo com a correlação de Pearson.**"
      ]
    },
    {
      "cell_type": "code",
      "execution_count": 12,
      "metadata": {
        "colab": {
          "base_uri": "https://localhost:8080/",
          "height": 0
        },
        "id": "pKsPGyLIpeoo",
        "outputId": "167602be-67f3-4660-cac1-a83137942635"
      },
      "outputs": [
        {
          "output_type": "execute_result",
          "data": {
            "text/plain": [
              "                        price  yearOfRegistration   powerPS  kilometer  \\\n",
              "price                1.000000            0.404142  0.253688  -0.435284   \n",
              "yearOfRegistration   0.404142            1.000000  0.102698  -0.401193   \n",
              "powerPS              0.253688            0.102698  1.000000  -0.016800   \n",
              "kilometer           -0.435284           -0.401193 -0.016800   1.000000   \n",
              "monthOfRegistration  0.015924            0.029300  0.013877  -0.005122   \n",
              "\n",
              "                     monthOfRegistration  \n",
              "price                           0.015924  \n",
              "yearOfRegistration              0.029300  \n",
              "powerPS                         0.013877  \n",
              "kilometer                      -0.005122  \n",
              "monthOfRegistration             1.000000  "
            ],
            "text/html": [
              "\n",
              "  <div id=\"df-0758ba65-403e-40aa-bec9-8a9632ee8512\">\n",
              "    <div class=\"colab-df-container\">\n",
              "      <div>\n",
              "<style scoped>\n",
              "    .dataframe tbody tr th:only-of-type {\n",
              "        vertical-align: middle;\n",
              "    }\n",
              "\n",
              "    .dataframe tbody tr th {\n",
              "        vertical-align: top;\n",
              "    }\n",
              "\n",
              "    .dataframe thead th {\n",
              "        text-align: right;\n",
              "    }\n",
              "</style>\n",
              "<table border=\"1\" class=\"dataframe\">\n",
              "  <thead>\n",
              "    <tr style=\"text-align: right;\">\n",
              "      <th></th>\n",
              "      <th>price</th>\n",
              "      <th>yearOfRegistration</th>\n",
              "      <th>powerPS</th>\n",
              "      <th>kilometer</th>\n",
              "      <th>monthOfRegistration</th>\n",
              "    </tr>\n",
              "  </thead>\n",
              "  <tbody>\n",
              "    <tr>\n",
              "      <th>price</th>\n",
              "      <td>1.000000</td>\n",
              "      <td>0.404142</td>\n",
              "      <td>0.253688</td>\n",
              "      <td>-0.435284</td>\n",
              "      <td>0.015924</td>\n",
              "    </tr>\n",
              "    <tr>\n",
              "      <th>yearOfRegistration</th>\n",
              "      <td>0.404142</td>\n",
              "      <td>1.000000</td>\n",
              "      <td>0.102698</td>\n",
              "      <td>-0.401193</td>\n",
              "      <td>0.029300</td>\n",
              "    </tr>\n",
              "    <tr>\n",
              "      <th>powerPS</th>\n",
              "      <td>0.253688</td>\n",
              "      <td>0.102698</td>\n",
              "      <td>1.000000</td>\n",
              "      <td>-0.016800</td>\n",
              "      <td>0.013877</td>\n",
              "    </tr>\n",
              "    <tr>\n",
              "      <th>kilometer</th>\n",
              "      <td>-0.435284</td>\n",
              "      <td>-0.401193</td>\n",
              "      <td>-0.016800</td>\n",
              "      <td>1.000000</td>\n",
              "      <td>-0.005122</td>\n",
              "    </tr>\n",
              "    <tr>\n",
              "      <th>monthOfRegistration</th>\n",
              "      <td>0.015924</td>\n",
              "      <td>0.029300</td>\n",
              "      <td>0.013877</td>\n",
              "      <td>-0.005122</td>\n",
              "      <td>1.000000</td>\n",
              "    </tr>\n",
              "  </tbody>\n",
              "</table>\n",
              "</div>\n",
              "      <button class=\"colab-df-convert\" onclick=\"convertToInteractive('df-0758ba65-403e-40aa-bec9-8a9632ee8512')\"\n",
              "              title=\"Convert this dataframe to an interactive table.\"\n",
              "              style=\"display:none;\">\n",
              "        \n",
              "  <svg xmlns=\"http://www.w3.org/2000/svg\" height=\"24px\"viewBox=\"0 0 24 24\"\n",
              "       width=\"24px\">\n",
              "    <path d=\"M0 0h24v24H0V0z\" fill=\"none\"/>\n",
              "    <path d=\"M18.56 5.44l.94 2.06.94-2.06 2.06-.94-2.06-.94-.94-2.06-.94 2.06-2.06.94zm-11 1L8.5 8.5l.94-2.06 2.06-.94-2.06-.94L8.5 2.5l-.94 2.06-2.06.94zm10 10l.94 2.06.94-2.06 2.06-.94-2.06-.94-.94-2.06-.94 2.06-2.06.94z\"/><path d=\"M17.41 7.96l-1.37-1.37c-.4-.4-.92-.59-1.43-.59-.52 0-1.04.2-1.43.59L10.3 9.45l-7.72 7.72c-.78.78-.78 2.05 0 2.83L4 21.41c.39.39.9.59 1.41.59.51 0 1.02-.2 1.41-.59l7.78-7.78 2.81-2.81c.8-.78.8-2.07 0-2.86zM5.41 20L4 18.59l7.72-7.72 1.47 1.35L5.41 20z\"/>\n",
              "  </svg>\n",
              "      </button>\n",
              "      \n",
              "  <style>\n",
              "    .colab-df-container {\n",
              "      display:flex;\n",
              "      flex-wrap:wrap;\n",
              "      gap: 12px;\n",
              "    }\n",
              "\n",
              "    .colab-df-convert {\n",
              "      background-color: #E8F0FE;\n",
              "      border: none;\n",
              "      border-radius: 50%;\n",
              "      cursor: pointer;\n",
              "      display: none;\n",
              "      fill: #1967D2;\n",
              "      height: 32px;\n",
              "      padding: 0 0 0 0;\n",
              "      width: 32px;\n",
              "    }\n",
              "\n",
              "    .colab-df-convert:hover {\n",
              "      background-color: #E2EBFA;\n",
              "      box-shadow: 0px 1px 2px rgba(60, 64, 67, 0.3), 0px 1px 3px 1px rgba(60, 64, 67, 0.15);\n",
              "      fill: #174EA6;\n",
              "    }\n",
              "\n",
              "    [theme=dark] .colab-df-convert {\n",
              "      background-color: #3B4455;\n",
              "      fill: #D2E3FC;\n",
              "    }\n",
              "\n",
              "    [theme=dark] .colab-df-convert:hover {\n",
              "      background-color: #434B5C;\n",
              "      box-shadow: 0px 1px 3px 1px rgba(0, 0, 0, 0.15);\n",
              "      filter: drop-shadow(0px 1px 2px rgba(0, 0, 0, 0.3));\n",
              "      fill: #FFFFFF;\n",
              "    }\n",
              "  </style>\n",
              "\n",
              "      <script>\n",
              "        const buttonEl =\n",
              "          document.querySelector('#df-0758ba65-403e-40aa-bec9-8a9632ee8512 button.colab-df-convert');\n",
              "        buttonEl.style.display =\n",
              "          google.colab.kernel.accessAllowed ? 'block' : 'none';\n",
              "\n",
              "        async function convertToInteractive(key) {\n",
              "          const element = document.querySelector('#df-0758ba65-403e-40aa-bec9-8a9632ee8512');\n",
              "          const dataTable =\n",
              "            await google.colab.kernel.invokeFunction('convertToInteractive',\n",
              "                                                     [key], {});\n",
              "          if (!dataTable) return;\n",
              "\n",
              "          const docLinkHtml = 'Like what you see? Visit the ' +\n",
              "            '<a target=\"_blank\" href=https://colab.research.google.com/notebooks/data_table.ipynb>data table notebook</a>'\n",
              "            + ' to learn more about interactive tables.';\n",
              "          element.innerHTML = '';\n",
              "          dataTable['output_type'] = 'display_data';\n",
              "          await google.colab.output.renderOutput(dataTable, element);\n",
              "          const docLink = document.createElement('div');\n",
              "          docLink.innerHTML = docLinkHtml;\n",
              "          element.appendChild(docLink);\n",
              "        }\n",
              "      </script>\n",
              "    </div>\n",
              "  </div>\n",
              "  "
            ]
          },
          "metadata": {},
          "execution_count": 12
        }
      ],
      "source": [
        "df.corr()"
      ]
    },
    {
      "cell_type": "markdown",
      "metadata": {
        "id": "6PefIOsgDRFP"
      },
      "source": [
        "**Correlação de Pearson:**"
      ]
    },
    {
      "cell_type": "code",
      "execution_count": 13,
      "metadata": {
        "colab": {
          "base_uri": "https://localhost:8080/",
          "height": 0
        },
        "id": "_scEk1sTpiJJ",
        "outputId": "2caa28cd-b714-4998-bb23-dd87dd74287b"
      },
      "outputs": [
        {
          "output_type": "display_data",
          "data": {
            "text/plain": [
              "<Figure size 720x576 with 2 Axes>"
            ],
            "image/png": "[encoded data removed]"
          },
          "metadata": {
            "needs_background": "light"
          }
        }
      ],
      "source": [
        "plt.figure(figsize=(10,8))\n",
        "sns.heatmap(df.corr(), annot=True);"
      ]
    },
    {
      "cell_type": "markdown",
      "metadata": {
        "id": "F6beHEzcDh0s"
      },
      "source": [
        "**Correlação de Spearman:**"
      ]
    },
    {
      "cell_type": "code",
      "execution_count": 14,
      "metadata": {
        "colab": {
          "base_uri": "https://localhost:8080/",
          "height": 0
        },
        "id": "blXteLYZDVlk",
        "outputId": "74142b91-e63b-4cf6-81da-86119d6fa0ca"
      },
      "outputs": [
        {
          "output_type": "execute_result",
          "data": {
            "text/plain": [
              "<matplotlib.axes._subplots.AxesSubplot at 0x7ff0de7ff290>"
            ]
          },
          "metadata": {},
          "execution_count": 14
        },
        {
          "output_type": "display_data",
          "data": {
            "text/plain": [
              "<Figure size 720x576 with 2 Axes>"
            ],
            "image/png": "[encoded data removed]"
          },
          "metadata": {
            "needs_background": "light"
          }
        }
      ],
      "source": [
        "plt.figure(figsize=(10, 8))\n",
        "sns.heatmap(df.corr(\"spearman\"), annot=True)"
      ]
    },
    {
      "cell_type": "code",
      "execution_count": 15,
      "metadata": {
        "colab": {
          "base_uri": "https://localhost:8080/",
          "height": 0
        },
        "id": "LoeV5OHtFJzB",
        "outputId": "7f714cb4-a9d9-456d-f626-8d899e07502a"
      },
      "outputs": [
        {
          "output_type": "display_data",
          "data": {
            "text/plain": [
              "<Figure size 900x900 with 30 Axes>"
            ],
            "image/png": "[encoded data removed]"
          },
          "metadata": {
            "needs_background": "light"
          }
        }
      ],
      "source": [
        "sns.pairplot(df.corr());"
      ]
    },
    {
      "cell_type": "markdown",
      "metadata": {
        "id": "7C056MoHp8aT"
      },
      "source": [
        "###**Intervalo de confiança - Média dos valores do preço dos veículos**"
      ]
    },
    {
      "cell_type": "markdown",
      "metadata": {
        "id": "R2a26fT0OukL"
      },
      "source": [
        "**Nível de confiança = 95%**"
      ]
    },
    {
      "cell_type": "markdown",
      "metadata": {
        "id": "Dzn3whC-q9mJ"
      },
      "source": [
        "Iremos pegar 100 amostras aleatórias:"
      ]
    },
    {
      "cell_type": "code",
      "execution_count": 16,
      "metadata": {
        "id": "ePf7l3qHqJV5"
      },
      "outputs": [],
      "source": [
        "import random\n",
        "lista = []\n",
        "for num in df[\"price\"]:\n",
        "  lista.append(num)\n",
        "dados = random.sample(lista,100)"
      ]
    },
    {
      "cell_type": "markdown",
      "metadata": {
        "id": "gseS75i_OVVm"
      },
      "source": [
        "Média amostral:"
      ]
    },
    {
      "cell_type": "code",
      "execution_count": 17,
      "metadata": {
        "colab": {
          "base_uri": "https://localhost:8080/"
        },
        "id": "hhE_W7kMFxVZ",
        "outputId": "a3757103-2198-4c9d-ec81-8d876308c094"
      },
      "outputs": [
        {
          "output_type": "execute_result",
          "data": {
            "text/plain": [
              "6379.83"
            ]
          },
          "metadata": {},
          "execution_count": 17
        }
      ],
      "source": [
        "media = pd.DataFrame(dados).mean()\n",
        "media = media[0]\n",
        "media"
      ]
    },
    {
      "cell_type": "markdown",
      "metadata": {
        "id": "DawgYK1qOXxK"
      },
      "source": [
        "Desvio padrão amostral:"
      ]
    },
    {
      "cell_type": "code",
      "execution_count": 18,
      "metadata": {
        "colab": {
          "base_uri": "https://localhost:8080/"
        },
        "id": "OrOcFXxNGGjK",
        "outputId": "749b98ec-2f47-4799-c322-d174f6dcb563"
      },
      "outputs": [
        {
          "output_type": "execute_result",
          "data": {
            "text/plain": [
              "7761.652267417231"
            ]
          },
          "metadata": {},
          "execution_count": 18
        }
      ],
      "source": [
        "desvio_padrao = pd.DataFrame(dados).std()\n",
        "desvio_padrao  = desvio_padrao[0]\n",
        "desvio_padrao "
      ]
    },
    {
      "cell_type": "markdown",
      "metadata": {
        "id": "_ubbdTszObOU"
      },
      "source": [
        "Número de amostras:"
      ]
    },
    {
      "cell_type": "code",
      "execution_count": 19,
      "metadata": {
        "colab": {
          "base_uri": "https://localhost:8080/"
        },
        "id": "yNkXrpaVHHrS",
        "outputId": "4afe316d-d117-459a-fd36-5d546c0aec47"
      },
      "outputs": [
        {
          "output_type": "execute_result",
          "data": {
            "text/plain": [
              "100"
            ]
          },
          "metadata": {},
          "execution_count": 19
        }
      ],
      "source": [
        "n = len(dados)\n",
        "n"
      ]
    },
    {
      "cell_type": "markdown",
      "source": [
        "**Irei usar o Scipy como ferramenta:**"
      ],
      "metadata": {
        "id": "VWNCSaX8SYel"
      }
    },
    {
      "cell_type": "code",
      "execution_count": 20,
      "metadata": {
        "id": "21jlOJ9iPDJn"
      },
      "outputs": [],
      "source": [
        "from scipy.stats import norm\n",
        "from scipy import stats\n",
        "import math"
      ]
    },
    {
      "cell_type": "markdown",
      "source": [
        "**Calculando o intervalo com margem de erro:**"
      ],
      "metadata": {
        "id": "Hf0Rt1GLSifo"
      }
    },
    {
      "cell_type": "code",
      "execution_count": 21,
      "metadata": {
        "colab": {
          "base_uri": "https://localhost:8080/"
        },
        "id": "o3kSCwtfO5Uv",
        "outputId": "ccabe776-831f-4c68-9450-c6f19f901175"
      },
      "outputs": [
        {
          "output_type": "execute_result",
          "data": {
            "text/plain": [
              "776.1652267417231"
            ]
          },
          "metadata": {},
          "execution_count": 21
        }
      ],
      "source": [
        "stats.sem(dados)"
      ]
    },
    {
      "cell_type": "code",
      "execution_count": 22,
      "metadata": {
        "colab": {
          "base_uri": "https://localhost:8080/"
        },
        "id": "39HgKZnGPMXf",
        "outputId": "1a6e3b38-4b87-42f6-9c70-1abaf262ee94"
      },
      "outputs": [
        {
          "output_type": "execute_result",
          "data": {
            "text/plain": [
              "(4858.574109533858, 7901.085890466142)"
            ]
          },
          "metadata": {},
          "execution_count": 22
        }
      ],
      "source": [
        "intervalos = norm.interval(0.95, media, stats.sem(dados))\n",
        "intervalos"
      ]
    },
    {
      "cell_type": "code",
      "execution_count": 23,
      "metadata": {
        "colab": {
          "base_uri": "https://localhost:8080/"
        },
        "id": "4eQc8yAtPjPi",
        "outputId": "cdd0ac9d-7218-4bdd-d51a-e110386f2d84"
      },
      "outputs": [
        {
          "output_type": "execute_result",
          "data": {
            "text/plain": [
              "1521.2558904661419"
            ]
          },
          "metadata": {},
          "execution_count": 23
        }
      ],
      "source": [
        "margem_erro = media - intervalos[0]\n",
        "margem_erro"
      ]
    },
    {
      "cell_type": "markdown",
      "metadata": {
        "id": "JV1FPVkcPm6t"
      },
      "source": [
        "**Temos 95% de confiança que a média geral do valores dos preços dos veículos estará entre 6.090,69 e 11.056,20 Euros com uma margem de erro de 2.482,75 Euros para mais e para menos**"
      ]
    },
    {
      "cell_type": "markdown",
      "metadata": {
        "id": "uRLRJs9fQD4_"
      },
      "source": [
        "**De fato confirmamos abaixo que a média geral está dentro do intervalo:**"
      ]
    },
    {
      "cell_type": "code",
      "execution_count": 24,
      "metadata": {
        "colab": {
          "base_uri": "https://localhost:8080/"
        },
        "id": "ndwP0_wHPYem",
        "outputId": "a057e4c1-d8c9-4190-fde1-92b55b82bffc"
      },
      "outputs": [
        {
          "output_type": "execute_result",
          "data": {
            "text/plain": [
              "6792.735543793458"
            ]
          },
          "metadata": {},
          "execution_count": 24
        }
      ],
      "source": [
        "df[\"price\"].mean()"
      ]
    },
    {
      "cell_type": "markdown",
      "metadata": {
        "id": "GUtDQoZEj8i1"
      },
      "source": [
        "### **Avaliando os quartis dos preços:**"
      ]
    },
    {
      "cell_type": "code",
      "execution_count": 25,
      "metadata": {
        "colab": {
          "base_uri": "https://localhost:8080/"
        },
        "id": "VJONI9DPimIh",
        "outputId": "4ab24e20-f933-4d6c-8ced-b855f3f3ec98"
      },
      "outputs": [
        {
          "output_type": "stream",
          "name": "stdout",
          "text": [
            "Primeiro quartil: 1600.0\n",
            "Segundo quartil: 3950.0\n",
            "Terceiro quartil: 8800.0\n",
            "Intervalo interquartílico: 7200.0\n",
            "Limite superior: 19600.0\n",
            "Limite inferior: -9200.0\n",
            "Média geral: 6792.74\n",
            "Mediana: 3950.00\n",
            "Moda-Valor mais frequente: 1500.00\n"
          ]
        }
      ],
      "source": [
        "\n",
        "Q1 = df[\"price\"].quantile(q=0.25) # Primeiro quartil\n",
        "Q2 = df[\"price\"].quantile(q=0.50) # Segundo quartil\n",
        "Q3 = df[\"price\"].quantile(q=0.75) # Terceiro quartil\n",
        "\n",
        "IQR = Q3 - Q1 # Intervalo interquartílico\n",
        "inf = Q1 - 1.5 * IQR\n",
        "sup = Q3 + 1.5 * IQR\n",
        "media = df[\"price\"].mean()\n",
        "mediana = df[\"price\"].median()\n",
        "moda = df[\"price\"].value_counts().index[0]\n",
        "\n",
        "print(f\"Primeiro quartil: {Q1}\")\n",
        "print(f\"Segundo quartil: {Q2}\")\n",
        "print(f\"Terceiro quartil: {Q3}\")\n",
        "print(f\"Intervalo interquartílico: {IQR}\")\n",
        "print(f\"Limite superior: {sup}\")\n",
        "print(f\"Limite inferior: {inf}\")\n",
        "print(f\"Média geral: {media:.2f}\")\n",
        "print(f\"Mediana: {mediana:.2f}\")\n",
        "print(f\"Moda-Valor mais frequente: {moda:.2f}\")\n"
      ]
    },
    {
      "cell_type": "code",
      "execution_count": 26,
      "metadata": {
        "colab": {
          "base_uri": "https://localhost:8080/",
          "height": 0
        },
        "id": "mZI1Ue4YVHPJ",
        "outputId": "c425397a-98c3-4ec7-8508-0077ffd5b203"
      },
      "outputs": [
        {
          "output_type": "stream",
          "name": "stderr",
          "text": [
            "/usr/local/lib/python3.7/dist-packages/seaborn/_decorators.py:43: FutureWarning: Pass the following variable as a keyword arg: x. From version 0.12, the only valid positional argument will be `data`, and passing other arguments without an explicit keyword will result in an error or misinterpretation.\n",
            "  FutureWarning\n"
          ]
        },
        {
          "output_type": "display_data",
          "data": {
            "text/plain": [
              "<Figure size 1080x576 with 1 Axes>"
            ],
            "image/png": "[encoded data removed]"
          },
          "metadata": {
            "needs_background": "light"
          }
        }
      ],
      "source": [
        "plt.figure(figsize=(15,8))\n",
        "sns.boxplot(df[\"price\"]);"
      ]
    },
    {
      "cell_type": "markdown",
      "source": [
        "**Apenas para visualizar melhor os quartis vamos retirar alguns outliers, mas manteremos eles durante a análise.**"
      ],
      "metadata": {
        "id": "NuC-H7GaTpUM"
      }
    },
    {
      "cell_type": "code",
      "source": [
        "veiculos = df[df[\"price\"] < 25000]\n",
        "veiculos"
      ],
      "metadata": {
        "colab": {
          "base_uri": "https://localhost:8080/",
          "height": 0
        },
        "id": "dcDxvJO3VEPK",
        "outputId": "ed5f8d26-171e-4cac-d45a-09af7760815d"
      },
      "execution_count": 27,
      "outputs": [
        {
          "output_type": "execute_result",
          "data": {
            "text/plain": [
              "        price   abtest vehicleType  yearOfRegistration    gearbox  powerPS  \\\n",
              "3        1500     test  kleinwagen                2001    manuell       75   \n",
              "4        3600     test  kleinwagen                2008    manuell       69   \n",
              "5         650     test   limousine                1995    manuell      102   \n",
              "6        2200     test      cabrio                2004    manuell      109   \n",
              "10       2000  control   limousine                2004    manuell      105   \n",
              "...       ...      ...         ...                 ...        ...      ...   \n",
              "371518   3999     test       kombi                2005    manuell        3   \n",
              "371520   3200  control   limousine                2004    manuell      225   \n",
              "371521   1150  control         bus                2000    manuell        0   \n",
              "371524   1199     test      cabrio                2000  automatik      101   \n",
              "371525   9200     test         bus                1996    manuell      102   \n",
              "\n",
              "              model  kilometer  monthOfRegistration fuelType       brand  \\\n",
              "3              golf     150000                    6   benzin  volkswagen   \n",
              "4             fabia      90000                    7   diesel       skoda   \n",
              "5               3er     150000                   10   benzin         bmw   \n",
              "6           2_reihe     150000                    8   benzin     peugeot   \n",
              "10          3_reihe     150000                   12   benzin       mazda   \n",
              "...             ...        ...                  ...      ...         ...   \n",
              "371518          3er     150000                    5   diesel         bmw   \n",
              "371520         leon     150000                    5   benzin        seat   \n",
              "371521       zafira     150000                    3   benzin        opel   \n",
              "371524       fortwo     125000                    3   benzin       smart   \n",
              "371525  transporter     150000                    3   diesel  volkswagen   \n",
              "\n",
              "       notRepairedDamage  \n",
              "3                   nein  \n",
              "4                   nein  \n",
              "5                     ja  \n",
              "6                   nein  \n",
              "10                  nein  \n",
              "...                  ...  \n",
              "371518              nein  \n",
              "371520                ja  \n",
              "371521              nein  \n",
              "371524              nein  \n",
              "371525              nein  \n",
              "\n",
              "[247600 rows x 12 columns]"
            ],
            "text/html": [
              "\n",
              "  <div id=\"df-56d6d9c4-1e62-490b-bbbb-e8eadcfec66f\">\n",
              "    <div class=\"colab-df-container\">\n",
              "      <div>\n",
              "<style scoped>\n",
              "    .dataframe tbody tr th:only-of-type {\n",
              "        vertical-align: middle;\n",
              "    }\n",
              "\n",
              "    .dataframe tbody tr th {\n",
              "        vertical-align: top;\n",
              "    }\n",
              "\n",
              "    .dataframe thead th {\n",
              "        text-align: right;\n",
              "    }\n",
              "</style>\n",
              "<table border=\"1\" class=\"dataframe\">\n",
              "  <thead>\n",
              "    <tr style=\"text-align: right;\">\n",
              "      <th></th>\n",
              "      <th>price</th>\n",
              "      <th>abtest</th>\n",
              "      <th>vehicleType</th>\n",
              "      <th>yearOfRegistration</th>\n",
              "      <th>gearbox</th>\n",
              "      <th>powerPS</th>\n",
              "      <th>model</th>\n",
              "      <th>kilometer</th>\n",
              "      <th>monthOfRegistration</th>\n",
              "      <th>fuelType</th>\n",
              "      <th>brand</th>\n",
              "      <th>notRepairedDamage</th>\n",
              "    </tr>\n",
              "  </thead>\n",
              "  <tbody>\n",
              "    <tr>\n",
              "      <th>3</th>\n",
              "      <td>1500</td>\n",
              "      <td>test</td>\n",
              "      <td>kleinwagen</td>\n",
              "      <td>2001</td>\n",
              "      <td>manuell</td>\n",
              "      <td>75</td>\n",
              "      <td>golf</td>\n",
              "      <td>150000</td>\n",
              "      <td>6</td>\n",
              "      <td>benzin</td>\n",
              "      <td>volkswagen</td>\n",
              "      <td>nein</td>\n",
              "    </tr>\n",
              "    <tr>\n",
              "      <th>4</th>\n",
              "      <td>3600</td>\n",
              "      <td>test</td>\n",
              "      <td>kleinwagen</td>\n",
              "      <td>2008</td>\n",
              "      <td>manuell</td>\n",
              "      <td>69</td>\n",
              "      <td>fabia</td>\n",
              "      <td>90000</td>\n",
              "      <td>7</td>\n",
              "      <td>diesel</td>\n",
              "      <td>skoda</td>\n",
              "      <td>nein</td>\n",
              "    </tr>\n",
              "    <tr>\n",
              "      <th>5</th>\n",
              "      <td>650</td>\n",
              "      <td>test</td>\n",
              "      <td>limousine</td>\n",
              "      <td>1995</td>\n",
              "      <td>manuell</td>\n",
              "      <td>102</td>\n",
              "      <td>3er</td>\n",
              "      <td>150000</td>\n",
              "      <td>10</td>\n",
              "      <td>benzin</td>\n",
              "      <td>bmw</td>\n",
              "      <td>ja</td>\n",
              "    </tr>\n",
              "    <tr>\n",
              "      <th>6</th>\n",
              "      <td>2200</td>\n",
              "      <td>test</td>\n",
              "      <td>cabrio</td>\n",
              "      <td>2004</td>\n",
              "      <td>manuell</td>\n",
              "      <td>109</td>\n",
              "      <td>2_reihe</td>\n",
              "      <td>150000</td>\n",
              "      <td>8</td>\n",
              "      <td>benzin</td>\n",
              "      <td>peugeot</td>\n",
              "      <td>nein</td>\n",
              "    </tr>\n",
              "    <tr>\n",
              "      <th>10</th>\n",
              "      <td>2000</td>\n",
              "      <td>control</td>\n",
              "      <td>limousine</td>\n",
              "      <td>2004</td>\n",
              "      <td>manuell</td>\n",
              "      <td>105</td>\n",
              "      <td>3_reihe</td>\n",
              "      <td>150000</td>\n",
              "      <td>12</td>\n",
              "      <td>benzin</td>\n",
              "      <td>mazda</td>\n",
              "      <td>nein</td>\n",
              "    </tr>\n",
              "    <tr>\n",
              "      <th>...</th>\n",
              "      <td>...</td>\n",
              "      <td>...</td>\n",
              "      <td>...</td>\n",
              "      <td>...</td>\n",
              "      <td>...</td>\n",
              "      <td>...</td>\n",
              "      <td>...</td>\n",
              "      <td>...</td>\n",
              "      <td>...</td>\n",
              "      <td>...</td>\n",
              "      <td>...</td>\n",
              "      <td>...</td>\n",
              "    </tr>\n",
              "    <tr>\n",
              "      <th>371518</th>\n",
              "      <td>3999</td>\n",
              "      <td>test</td>\n",
              "      <td>kombi</td>\n",
              "      <td>2005</td>\n",
              "      <td>manuell</td>\n",
              "      <td>3</td>\n",
              "      <td>3er</td>\n",
              "      <td>150000</td>\n",
              "      <td>5</td>\n",
              "      <td>diesel</td>\n",
              "      <td>bmw</td>\n",
              "      <td>nein</td>\n",
              "    </tr>\n",
              "    <tr>\n",
              "      <th>371520</th>\n",
              "      <td>3200</td>\n",
              "      <td>control</td>\n",
              "      <td>limousine</td>\n",
              "      <td>2004</td>\n",
              "      <td>manuell</td>\n",
              "      <td>225</td>\n",
              "      <td>leon</td>\n",
              "      <td>150000</td>\n",
              "      <td>5</td>\n",
              "      <td>benzin</td>\n",
              "      <td>seat</td>\n",
              "      <td>ja</td>\n",
              "    </tr>\n",
              "    <tr>\n",
              "      <th>371521</th>\n",
              "      <td>1150</td>\n",
              "      <td>control</td>\n",
              "      <td>bus</td>\n",
              "      <td>2000</td>\n",
              "      <td>manuell</td>\n",
              "      <td>0</td>\n",
              "      <td>zafira</td>\n",
              "      <td>150000</td>\n",
              "      <td>3</td>\n",
              "      <td>benzin</td>\n",
              "      <td>opel</td>\n",
              "      <td>nein</td>\n",
              "    </tr>\n",
              "    <tr>\n",
              "      <th>371524</th>\n",
              "      <td>1199</td>\n",
              "      <td>test</td>\n",
              "      <td>cabrio</td>\n",
              "      <td>2000</td>\n",
              "      <td>automatik</td>\n",
              "      <td>101</td>\n",
              "      <td>fortwo</td>\n",
              "      <td>125000</td>\n",
              "      <td>3</td>\n",
              "      <td>benzin</td>\n",
              "      <td>smart</td>\n",
              "      <td>nein</td>\n",
              "    </tr>\n",
              "    <tr>\n",
              "      <th>371525</th>\n",
              "      <td>9200</td>\n",
              "      <td>test</td>\n",
              "      <td>bus</td>\n",
              "      <td>1996</td>\n",
              "      <td>manuell</td>\n",
              "      <td>102</td>\n",
              "      <td>transporter</td>\n",
              "      <td>150000</td>\n",
              "      <td>3</td>\n",
              "      <td>diesel</td>\n",
              "      <td>volkswagen</td>\n",
              "      <td>nein</td>\n",
              "    </tr>\n",
              "  </tbody>\n",
              "</table>\n",
              "<p>247600 rows × 12 columns</p>\n",
              "</div>\n",
              "      <button class=\"colab-df-convert\" onclick=\"convertToInteractive('df-56d6d9c4-1e62-490b-bbbb-e8eadcfec66f')\"\n",
              "              title=\"Convert this dataframe to an interactive table.\"\n",
              "              style=\"display:none;\">\n",
              "        \n",
              "  <svg xmlns=\"http://www.w3.org/2000/svg\" height=\"24px\"viewBox=\"0 0 24 24\"\n",
              "       width=\"24px\">\n",
              "    <path d=\"M0 0h24v24H0V0z\" fill=\"none\"/>\n",
              "    <path d=\"M18.56 5.44l.94 2.06.94-2.06 2.06-.94-2.06-.94-.94-2.06-.94 2.06-2.06.94zm-11 1L8.5 8.5l.94-2.06 2.06-.94-2.06-.94L8.5 2.5l-.94 2.06-2.06.94zm10 10l.94 2.06.94-2.06 2.06-.94-2.06-.94-.94-2.06-.94 2.06-2.06.94z\"/><path d=\"M17.41 7.96l-1.37-1.37c-.4-.4-.92-.59-1.43-.59-.52 0-1.04.2-1.43.59L10.3 9.45l-7.72 7.72c-.78.78-.78 2.05 0 2.83L4 21.41c.39.39.9.59 1.41.59.51 0 1.02-.2 1.41-.59l7.78-7.78 2.81-2.81c.8-.78.8-2.07 0-2.86zM5.41 20L4 18.59l7.72-7.72 1.47 1.35L5.41 20z\"/>\n",
              "  </svg>\n",
              "      </button>\n",
              "      \n",
              "  <style>\n",
              "    .colab-df-container {\n",
              "      display:flex;\n",
              "      flex-wrap:wrap;\n",
              "      gap: 12px;\n",
              "    }\n",
              "\n",
              "    .colab-df-convert {\n",
              "      background-color: #E8F0FE;\n",
              "      border: none;\n",
              "      border-radius: 50%;\n",
              "      cursor: pointer;\n",
              "      display: none;\n",
              "      fill: #1967D2;\n",
              "      height: 32px;\n",
              "      padding: 0 0 0 0;\n",
              "      width: 32px;\n",
              "    }\n",
              "\n",
              "    .colab-df-convert:hover {\n",
              "      background-color: #E2EBFA;\n",
              "      box-shadow: 0px 1px 2px rgba(60, 64, 67, 0.3), 0px 1px 3px 1px rgba(60, 64, 67, 0.15);\n",
              "      fill: #174EA6;\n",
              "    }\n",
              "\n",
              "    [theme=dark] .colab-df-convert {\n",
              "      background-color: #3B4455;\n",
              "      fill: #D2E3FC;\n",
              "    }\n",
              "\n",
              "    [theme=dark] .colab-df-convert:hover {\n",
              "      background-color: #434B5C;\n",
              "      box-shadow: 0px 1px 3px 1px rgba(0, 0, 0, 0.15);\n",
              "      filter: drop-shadow(0px 1px 2px rgba(0, 0, 0, 0.3));\n",
              "      fill: #FFFFFF;\n",
              "    }\n",
              "  </style>\n",
              "\n",
              "      <script>\n",
              "        const buttonEl =\n",
              "          document.querySelector('#df-56d6d9c4-1e62-490b-bbbb-e8eadcfec66f button.colab-df-convert');\n",
              "        buttonEl.style.display =\n",
              "          google.colab.kernel.accessAllowed ? 'block' : 'none';\n",
              "\n",
              "        async function convertToInteractive(key) {\n",
              "          const element = document.querySelector('#df-56d6d9c4-1e62-490b-bbbb-e8eadcfec66f');\n",
              "          const dataTable =\n",
              "            await google.colab.kernel.invokeFunction('convertToInteractive',\n",
              "                                                     [key], {});\n",
              "          if (!dataTable) return;\n",
              "\n",
              "          const docLinkHtml = 'Like what you see? Visit the ' +\n",
              "            '<a target=\"_blank\" href=https://colab.research.google.com/notebooks/data_table.ipynb>data table notebook</a>'\n",
              "            + ' to learn more about interactive tables.';\n",
              "          element.innerHTML = '';\n",
              "          dataTable['output_type'] = 'display_data';\n",
              "          await google.colab.output.renderOutput(dataTable, element);\n",
              "          const docLink = document.createElement('div');\n",
              "          docLink.innerHTML = docLinkHtml;\n",
              "          element.appendChild(docLink);\n",
              "        }\n",
              "      </script>\n",
              "    </div>\n",
              "  </div>\n",
              "  "
            ]
          },
          "metadata": {},
          "execution_count": 27
        }
      ]
    },
    {
      "cell_type": "code",
      "source": [
        "plt.figure(figsize=(15,8))\n",
        "sns.boxplot(veiculos[\"price\"]);"
      ],
      "metadata": {
        "colab": {
          "base_uri": "https://localhost:8080/",
          "height": 0
        },
        "id": "TEG375boT4_6",
        "outputId": "7a5098fc-a79b-4d2d-bc52-376d558d1cfd"
      },
      "execution_count": 28,
      "outputs": [
        {
          "output_type": "stream",
          "name": "stderr",
          "text": [
            "/usr/local/lib/python3.7/dist-packages/seaborn/_decorators.py:43: FutureWarning: Pass the following variable as a keyword arg: x. From version 0.12, the only valid positional argument will be `data`, and passing other arguments without an explicit keyword will result in an error or misinterpretation.\n",
            "  FutureWarning\n"
          ]
        },
        {
          "output_type": "display_data",
          "data": {
            "text/plain": [
              "<Figure size 1080x576 with 1 Axes>"
            ],
            "image/png": "[encoded data removed]"
          },
          "metadata": {
            "needs_background": "light"
          }
        }
      ]
    },
    {
      "cell_type": "markdown",
      "metadata": {
        "id": "vqq95KDFkyQH"
      },
      "source": [
        "### **Assimetria positiva =>  moda <= mediana <= média**"
      ]
    },
    {
      "cell_type": "code",
      "execution_count": 29,
      "metadata": {
        "colab": {
          "base_uri": "https://localhost:8080/",
          "height": 0
        },
        "id": "9Gcj8VeVkpGn",
        "outputId": "0608d1b2-3655-49b6-f96b-f6cf3f0df54b"
      },
      "outputs": [
        {
          "output_type": "stream",
          "name": "stderr",
          "text": [
            "/usr/local/lib/python3.7/dist-packages/seaborn/distributions.py:2619: FutureWarning: `distplot` is a deprecated function and will be removed in a future version. Please adapt your code to use either `displot` (a figure-level function with similar flexibility) or `histplot` (an axes-level function for histograms).\n",
            "  warnings.warn(msg, FutureWarning)\n"
          ]
        },
        {
          "output_type": "display_data",
          "data": {
            "text/plain": [
              "<Figure size 720x576 with 1 Axes>"
            ],
            "image/png": "[encoded data removed]"
          },
          "metadata": {
            "needs_background": "light"
          }
        }
      ],
      "source": [
        "plt.figure(figsize=(10,8))\n",
        "sns.distplot(df[\"price\"]);"
      ]
    },
    {
      "cell_type": "markdown",
      "metadata": {
        "id": "3bBq1twsl1sn"
      },
      "source": [
        "### **Avaliando a medida de curtose:**"
      ]
    },
    {
      "cell_type": "markdown",
      "metadata": {
        "id": "Zj_YLjOmnzKv"
      },
      "source": [
        "**Para valores abaixo de 0.263 => O resultado identificou como Leptocúrtica, mostrando que a maior concentração dos seus dados se dá em torno do seu centro:**"
      ]
    },
    {
      "cell_type": "code",
      "execution_count": 30,
      "metadata": {
        "colab": {
          "base_uri": "https://localhost:8080/"
        },
        "id": "ja1P_6ium02L",
        "outputId": "76f8d264-583a-4aae-febc-47b53858ee39"
      },
      "outputs": [
        {
          "output_type": "execute_result",
          "data": {
            "text/plain": [
              "0.2369980250164582"
            ]
          },
          "metadata": {},
          "execution_count": 30
        }
      ],
      "source": [
        "Q10 = df[\"price\"].quantile(q=0.1) # Décimo quartil\n",
        "Q90 = df[\"price\"].quantile(q=0.9) # Nonagésimo quartil\n",
        "(Q3-Q1)/(2*(Q90-Q10))"
      ]
    },
    {
      "cell_type": "markdown",
      "source": [
        "## **Variedade e média de preços por fabricante:**"
      ],
      "metadata": {
        "id": "DyKQTYESWBzo"
      }
    },
    {
      "cell_type": "code",
      "source": [
        "df"
      ],
      "metadata": {
        "colab": {
          "base_uri": "https://localhost:8080/",
          "height": 424
        },
        "id": "-_SM00FaWDvw",
        "outputId": "752140c2-d6a8-4808-8002-3d8f9c1e5ffe"
      },
      "execution_count": 31,
      "outputs": [
        {
          "output_type": "execute_result",
          "data": {
            "text/plain": [
              "        price   abtest vehicleType  yearOfRegistration    gearbox  powerPS  \\\n",
              "3        1500     test  kleinwagen                2001    manuell       75   \n",
              "4        3600     test  kleinwagen                2008    manuell       69   \n",
              "5         650     test   limousine                1995    manuell      102   \n",
              "6        2200     test      cabrio                2004    manuell      109   \n",
              "10       2000  control   limousine                2004    manuell      105   \n",
              "...       ...      ...         ...                 ...        ...      ...   \n",
              "371520   3200  control   limousine                2004    manuell      225   \n",
              "371521   1150  control         bus                2000    manuell        0   \n",
              "371524   1199     test      cabrio                2000  automatik      101   \n",
              "371525   9200     test         bus                1996    manuell      102   \n",
              "371527  28990  control   limousine                2013    manuell      320   \n",
              "\n",
              "              model  kilometer  monthOfRegistration fuelType       brand  \\\n",
              "3              golf     150000                    6   benzin  volkswagen   \n",
              "4             fabia      90000                    7   diesel       skoda   \n",
              "5               3er     150000                   10   benzin         bmw   \n",
              "6           2_reihe     150000                    8   benzin     peugeot   \n",
              "10          3_reihe     150000                   12   benzin       mazda   \n",
              "...             ...        ...                  ...      ...         ...   \n",
              "371520         leon     150000                    5   benzin        seat   \n",
              "371521       zafira     150000                    3   benzin        opel   \n",
              "371524       fortwo     125000                    3   benzin       smart   \n",
              "371525  transporter     150000                    3   diesel  volkswagen   \n",
              "371527      m_reihe      50000                    8   benzin         bmw   \n",
              "\n",
              "       notRepairedDamage  \n",
              "3                   nein  \n",
              "4                   nein  \n",
              "5                     ja  \n",
              "6                   nein  \n",
              "10                  nein  \n",
              "...                  ...  \n",
              "371520                ja  \n",
              "371521              nein  \n",
              "371524              nein  \n",
              "371525              nein  \n",
              "371527              nein  \n",
              "\n",
              "[256568 rows x 12 columns]"
            ],
            "text/html": [
              "\n",
              "  <div id=\"df-a1147710-ddbb-4b8a-93bf-e582169578b6\">\n",
              "    <div class=\"colab-df-container\">\n",
              "      <div>\n",
              "<style scoped>\n",
              "    .dataframe tbody tr th:only-of-type {\n",
              "        vertical-align: middle;\n",
              "    }\n",
              "\n",
              "    .dataframe tbody tr th {\n",
              "        vertical-align: top;\n",
              "    }\n",
              "\n",
              "    .dataframe thead th {\n",
              "        text-align: right;\n",
              "    }\n",
              "</style>\n",
              "<table border=\"1\" class=\"dataframe\">\n",
              "  <thead>\n",
              "    <tr style=\"text-align: right;\">\n",
              "      <th></th>\n",
              "      <th>price</th>\n",
              "      <th>abtest</th>\n",
              "      <th>vehicleType</th>\n",
              "      <th>yearOfRegistration</th>\n",
              "      <th>gearbox</th>\n",
              "      <th>powerPS</th>\n",
              "      <th>model</th>\n",
              "      <th>kilometer</th>\n",
              "      <th>monthOfRegistration</th>\n",
              "      <th>fuelType</th>\n",
              "      <th>brand</th>\n",
              "      <th>notRepairedDamage</th>\n",
              "    </tr>\n",
              "  </thead>\n",
              "  <tbody>\n",
              "    <tr>\n",
              "      <th>3</th>\n",
              "      <td>1500</td>\n",
              "      <td>test</td>\n",
              "      <td>kleinwagen</td>\n",
              "      <td>2001</td>\n",
              "      <td>manuell</td>\n",
              "      <td>75</td>\n",
              "      <td>golf</td>\n",
              "      <td>150000</td>\n",
              "      <td>6</td>\n",
              "      <td>benzin</td>\n",
              "      <td>volkswagen</td>\n",
              "      <td>nein</td>\n",
              "    </tr>\n",
              "    <tr>\n",
              "      <th>4</th>\n",
              "      <td>3600</td>\n",
              "      <td>test</td>\n",
              "      <td>kleinwagen</td>\n",
              "      <td>2008</td>\n",
              "      <td>manuell</td>\n",
              "      <td>69</td>\n",
              "      <td>fabia</td>\n",
              "      <td>90000</td>\n",
              "      <td>7</td>\n",
              "      <td>diesel</td>\n",
              "      <td>skoda</td>\n",
              "      <td>nein</td>\n",
              "    </tr>\n",
              "    <tr>\n",
              "      <th>5</th>\n",
              "      <td>650</td>\n",
              "      <td>test</td>\n",
              "      <td>limousine</td>\n",
              "      <td>1995</td>\n",
              "      <td>manuell</td>\n",
              "      <td>102</td>\n",
              "      <td>3er</td>\n",
              "      <td>150000</td>\n",
              "      <td>10</td>\n",
              "      <td>benzin</td>\n",
              "      <td>bmw</td>\n",
              "      <td>ja</td>\n",
              "    </tr>\n",
              "    <tr>\n",
              "      <th>6</th>\n",
              "      <td>2200</td>\n",
              "      <td>test</td>\n",
              "      <td>cabrio</td>\n",
              "      <td>2004</td>\n",
              "      <td>manuell</td>\n",
              "      <td>109</td>\n",
              "      <td>2_reihe</td>\n",
              "      <td>150000</td>\n",
              "      <td>8</td>\n",
              "      <td>benzin</td>\n",
              "      <td>peugeot</td>\n",
              "      <td>nein</td>\n",
              "    </tr>\n",
              "    <tr>\n",
              "      <th>10</th>\n",
              "      <td>2000</td>\n",
              "      <td>control</td>\n",
              "      <td>limousine</td>\n",
              "      <td>2004</td>\n",
              "      <td>manuell</td>\n",
              "      <td>105</td>\n",
              "      <td>3_reihe</td>\n",
              "      <td>150000</td>\n",
              "      <td>12</td>\n",
              "      <td>benzin</td>\n",
              "      <td>mazda</td>\n",
              "      <td>nein</td>\n",
              "    </tr>\n",
              "    <tr>\n",
              "      <th>...</th>\n",
              "      <td>...</td>\n",
              "      <td>...</td>\n",
              "      <td>...</td>\n",
              "      <td>...</td>\n",
              "      <td>...</td>\n",
              "      <td>...</td>\n",
              "      <td>...</td>\n",
              "      <td>...</td>\n",
              "      <td>...</td>\n",
              "      <td>...</td>\n",
              "      <td>...</td>\n",
              "      <td>...</td>\n",
              "    </tr>\n",
              "    <tr>\n",
              "      <th>371520</th>\n",
              "      <td>3200</td>\n",
              "      <td>control</td>\n",
              "      <td>limousine</td>\n",
              "      <td>2004</td>\n",
              "      <td>manuell</td>\n",
              "      <td>225</td>\n",
              "      <td>leon</td>\n",
              "      <td>150000</td>\n",
              "      <td>5</td>\n",
              "      <td>benzin</td>\n",
              "      <td>seat</td>\n",
              "      <td>ja</td>\n",
              "    </tr>\n",
              "    <tr>\n",
              "      <th>371521</th>\n",
              "      <td>1150</td>\n",
              "      <td>control</td>\n",
              "      <td>bus</td>\n",
              "      <td>2000</td>\n",
              "      <td>manuell</td>\n",
              "      <td>0</td>\n",
              "      <td>zafira</td>\n",
              "      <td>150000</td>\n",
              "      <td>3</td>\n",
              "      <td>benzin</td>\n",
              "      <td>opel</td>\n",
              "      <td>nein</td>\n",
              "    </tr>\n",
              "    <tr>\n",
              "      <th>371524</th>\n",
              "      <td>1199</td>\n",
              "      <td>test</td>\n",
              "      <td>cabrio</td>\n",
              "      <td>2000</td>\n",
              "      <td>automatik</td>\n",
              "      <td>101</td>\n",
              "      <td>fortwo</td>\n",
              "      <td>125000</td>\n",
              "      <td>3</td>\n",
              "      <td>benzin</td>\n",
              "      <td>smart</td>\n",
              "      <td>nein</td>\n",
              "    </tr>\n",
              "    <tr>\n",
              "      <th>371525</th>\n",
              "      <td>9200</td>\n",
              "      <td>test</td>\n",
              "      <td>bus</td>\n",
              "      <td>1996</td>\n",
              "      <td>manuell</td>\n",
              "      <td>102</td>\n",
              "      <td>transporter</td>\n",
              "      <td>150000</td>\n",
              "      <td>3</td>\n",
              "      <td>diesel</td>\n",
              "      <td>volkswagen</td>\n",
              "      <td>nein</td>\n",
              "    </tr>\n",
              "    <tr>\n",
              "      <th>371527</th>\n",
              "      <td>28990</td>\n",
              "      <td>control</td>\n",
              "      <td>limousine</td>\n",
              "      <td>2013</td>\n",
              "      <td>manuell</td>\n",
              "      <td>320</td>\n",
              "      <td>m_reihe</td>\n",
              "      <td>50000</td>\n",
              "      <td>8</td>\n",
              "      <td>benzin</td>\n",
              "      <td>bmw</td>\n",
              "      <td>nein</td>\n",
              "    </tr>\n",
              "  </tbody>\n",
              "</table>\n",
              "<p>256568 rows × 12 columns</p>\n",
              "</div>\n",
              "      <button class=\"colab-df-convert\" onclick=\"convertToInteractive('df-a1147710-ddbb-4b8a-93bf-e582169578b6')\"\n",
              "              title=\"Convert this dataframe to an interactive table.\"\n",
              "              style=\"display:none;\">\n",
              "        \n",
              "  <svg xmlns=\"http://www.w3.org/2000/svg\" height=\"24px\"viewBox=\"0 0 24 24\"\n",
              "       width=\"24px\">\n",
              "    <path d=\"M0 0h24v24H0V0z\" fill=\"none\"/>\n",
              "    <path d=\"M18.56 5.44l.94 2.06.94-2.06 2.06-.94-2.06-.94-.94-2.06-.94 2.06-2.06.94zm-11 1L8.5 8.5l.94-2.06 2.06-.94-2.06-.94L8.5 2.5l-.94 2.06-2.06.94zm10 10l.94 2.06.94-2.06 2.06-.94-2.06-.94-.94-2.06-.94 2.06-2.06.94z\"/><path d=\"M17.41 7.96l-1.37-1.37c-.4-.4-.92-.59-1.43-.59-.52 0-1.04.2-1.43.59L10.3 9.45l-7.72 7.72c-.78.78-.78 2.05 0 2.83L4 21.41c.39.39.9.59 1.41.59.51 0 1.02-.2 1.41-.59l7.78-7.78 2.81-2.81c.8-.78.8-2.07 0-2.86zM5.41 20L4 18.59l7.72-7.72 1.47 1.35L5.41 20z\"/>\n",
              "  </svg>\n",
              "      </button>\n",
              "      \n",
              "  <style>\n",
              "    .colab-df-container {\n",
              "      display:flex;\n",
              "      flex-wrap:wrap;\n",
              "      gap: 12px;\n",
              "    }\n",
              "\n",
              "    .colab-df-convert {\n",
              "      background-color: #E8F0FE;\n",
              "      border: none;\n",
              "      border-radius: 50%;\n",
              "      cursor: pointer;\n",
              "      display: none;\n",
              "      fill: #1967D2;\n",
              "      height: 32px;\n",
              "      padding: 0 0 0 0;\n",
              "      width: 32px;\n",
              "    }\n",
              "\n",
              "    .colab-df-convert:hover {\n",
              "      background-color: #E2EBFA;\n",
              "      box-shadow: 0px 1px 2px rgba(60, 64, 67, 0.3), 0px 1px 3px 1px rgba(60, 64, 67, 0.15);\n",
              "      fill: #174EA6;\n",
              "    }\n",
              "\n",
              "    [theme=dark] .colab-df-convert {\n",
              "      background-color: #3B4455;\n",
              "      fill: #D2E3FC;\n",
              "    }\n",
              "\n",
              "    [theme=dark] .colab-df-convert:hover {\n",
              "      background-color: #434B5C;\n",
              "      box-shadow: 0px 1px 3px 1px rgba(0, 0, 0, 0.15);\n",
              "      filter: drop-shadow(0px 1px 2px rgba(0, 0, 0, 0.3));\n",
              "      fill: #FFFFFF;\n",
              "    }\n",
              "  </style>\n",
              "\n",
              "      <script>\n",
              "        const buttonEl =\n",
              "          document.querySelector('#df-a1147710-ddbb-4b8a-93bf-e582169578b6 button.colab-df-convert');\n",
              "        buttonEl.style.display =\n",
              "          google.colab.kernel.accessAllowed ? 'block' : 'none';\n",
              "\n",
              "        async function convertToInteractive(key) {\n",
              "          const element = document.querySelector('#df-a1147710-ddbb-4b8a-93bf-e582169578b6');\n",
              "          const dataTable =\n",
              "            await google.colab.kernel.invokeFunction('convertToInteractive',\n",
              "                                                     [key], {});\n",
              "          if (!dataTable) return;\n",
              "\n",
              "          const docLinkHtml = 'Like what you see? Visit the ' +\n",
              "            '<a target=\"_blank\" href=https://colab.research.google.com/notebooks/data_table.ipynb>data table notebook</a>'\n",
              "            + ' to learn more about interactive tables.';\n",
              "          element.innerHTML = '';\n",
              "          dataTable['output_type'] = 'display_data';\n",
              "          await google.colab.output.renderOutput(dataTable, element);\n",
              "          const docLink = document.createElement('div');\n",
              "          docLink.innerHTML = docLinkHtml;\n",
              "          element.appendChild(docLink);\n",
              "        }\n",
              "      </script>\n",
              "    </div>\n",
              "  </div>\n",
              "  "
            ]
          },
          "metadata": {},
          "execution_count": 31
        }
      ]
    },
    {
      "cell_type": "markdown",
      "source": [
        "#**Quais fabricantes tem a média de preço dos veículos mais caras?**"
      ],
      "metadata": {
        "id": "LIdrTdeWzne9"
      }
    },
    {
      "cell_type": "code",
      "source": [
        "plt.figure(figsize=(30,10))\n",
        "sns.barplot(data=df, y=df[\"price\"], x=\"brand\")\n",
        "plt.grid(axis=\"y\", color=\"gray\", ls=\"--\", lw=\"1\", alpha=0.8)\n",
        "plt.title(\"Média de preço por fabricante\")\n",
        "plt.ylabel(\"Valor em Euros\")\n",
        "plt.xlabel(\"Fabricante\")\n",
        "plt.xticks(rotation=45, ha=\"right\")\n",
        "plt.show();"
      ],
      "metadata": {
        "colab": {
          "base_uri": "https://localhost:8080/",
          "height": 674
        },
        "id": "blksCd0aZpCM",
        "outputId": "9ad0bdce-0c95-4f16-f2a6-49c6394a5922"
      },
      "execution_count": 33,
      "outputs": [
        {
          "output_type": "display_data",
          "data": {
            "text/plain": [
              "<Figure size 2160x720 with 1 Axes>"
            ],
            "image/png": "[encoded data removed]"
          },
          "metadata": {
            "needs_background": "light"
          }
        }
      ]
    },
    {
      "cell_type": "markdown",
      "source": [
        "**Percebemos abaixo que a BMW e a Mercedes Benz estão entre as 3 fabricantes que tem alguns veículos entre os mais caros, porém sua média de preço geral não é tão elevada(como vimos acima), mostrando que esses veículos caros são poucos frequentes entre suas fabricantes, diferente da Land Rover, Audi e Mini que tem uma média de valores alta, porém não tem veículos entre os mais caros:**\n",
        "\n"
      ],
      "metadata": {
        "id": "dMUQyrcgbFPz"
      }
    },
    {
      "cell_type": "code",
      "source": [
        "plt.figure(figsize=(30,10))\n",
        "sns.scatterplot(data=df, x=df[\"price\"], y=\"brand\")\n",
        "plt.grid(axis=\"y\", color=\"gray\", ls=\"--\", lw=\"1\", alpha=0.8)\n",
        "plt.title(\"Variedade de preços distribuídos por fabricante | Tipo de combustível\")\n",
        "plt.xlabel(\"Valor em Euros\")\n",
        "plt.ylabel(\"Fabricante\")\n",
        "plt.show();"
      ],
      "metadata": {
        "colab": {
          "base_uri": "https://localhost:8080/",
          "height": 621
        },
        "id": "PmmBi_pwWS7t",
        "outputId": "77927ebc-9212-45a9-b232-0d2217539bda"
      },
      "execution_count": 41,
      "outputs": [
        {
          "output_type": "display_data",
          "data": {
            "text/plain": [
              "<Figure size 2160x720 with 1 Axes>"
            ],
            "image/png": "[encoded data removed]"
          },
          "metadata": {
            "needs_background": "light"
          }
        }
      ]
    },
    {
      "cell_type": "markdown",
      "source": [
        "#**Quais as fabricantes tem como tipo de combustível híbrido e elétrico mais caros?**"
      ],
      "metadata": {
        "id": "9HuQ5TCI0y21"
      }
    },
    {
      "cell_type": "markdown",
      "source": [
        "\n",
        "\n",
        "*   **Notamos que as fabricantes que tem veículos do tipo híbridos tem esse grupo como o tipo mais caro, exceto a Smart:**\n",
        "*   **Os veículos da fabricante Smart tem uma média baixa de preço, mas os veículos elétricos tem um alto desvio padrão dos preços e tema média de preço mais elevada na fabricante.**\n",
        "\n"
      ],
      "metadata": {
        "id": "CfkLK7f4ggl9"
      }
    },
    {
      "cell_type": "code",
      "source": [
        "plt.figure(figsize=(30,10))\n",
        "sns.barplot(data=df, y=df[\"price\"], x=\"brand\", hue=\"fuelType\")\n",
        "plt.grid(axis=\"y\", color=\"gray\", ls=\"--\", lw=\"1\", alpha=0.8)\n",
        "plt.title(\"Média de preço por fabricante\")\n",
        "plt.ylabel(\"Valor em Euros\")\n",
        "plt.xlabel(\"Fabricante\")\n",
        "plt.xticks(rotation=45, ha=\"right\")\n",
        "plt.show();"
      ],
      "metadata": {
        "colab": {
          "base_uri": "https://localhost:8080/",
          "height": 674
        },
        "id": "3ZvwOSfngcbV",
        "outputId": "5f23cf5b-f894-4496-b8d6-9bd58489c5fb"
      },
      "execution_count": 34,
      "outputs": [
        {
          "output_type": "display_data",
          "data": {
            "text/plain": [
              "<Figure size 2160x720 with 1 Axes>"
            ],
            "image/png": "[encoded data removed]"
          },
          "metadata": {
            "needs_background": "light"
          }
        }
      ]
    },
    {
      "cell_type": "markdown",
      "source": [
        "**64,62% de todos os veículos entre todas as fabricantes são movidos a gasolina, 33,56% são a diesel. Aproximadamente 98% do mercado de combustíveis.**"
      ],
      "metadata": {
        "id": "Kf5r6AN4jJzU"
      }
    },
    {
      "cell_type": "code",
      "source": [
        "df[\"fuelType\"].value_counts(normalize=True)"
      ],
      "metadata": {
        "colab": {
          "base_uri": "https://localhost:8080/"
        },
        "id": "MIsLivGsir8s",
        "outputId": "7909113c-20da-42b6-8ecc-0f206cbfdde6"
      },
      "execution_count": 35,
      "outputs": [
        {
          "output_type": "execute_result",
          "data": {
            "text/plain": [
              "benzin     0.646230\n",
              "diesel     0.335642\n",
              "lpg        0.015068\n",
              "cng        0.001770\n",
              "hybrid     0.000822\n",
              "andere     0.000253\n",
              "elektro    0.000214\n",
              "Name: fuelType, dtype: float64"
            ]
          },
          "metadata": {},
          "execution_count": 35
        }
      ]
    },
    {
      "cell_type": "markdown",
      "source": [
        "**Vamos analisar os veículos elétricos da fabricante Smart, a média e o desvio padrão são extremamente elevados para a quantidade de tipos de veículos elétricos fabricados na Smart**"
      ],
      "metadata": {
        "id": "ZZkdm3cGlEDr"
      }
    },
    {
      "cell_type": "code",
      "source": [
        "smart_fuel = df[df[\"brand\"] == \"smart\"]\n",
        "smart_fuel_ele = smart_fuel[smart_fuel[\"fuelType\"] == \"elektro\"]\n",
        "print(f\"Total de {len(smart_fuel)} veículos, nas quais apenas {len(smart_fuel_ele)} são elétricos\")"
      ],
      "metadata": {
        "colab": {
          "base_uri": "https://localhost:8080/"
        },
        "id": "8MxkwlHElwXy",
        "outputId": "8581eb31-ed68-402a-c125-83f7c8d3c952"
      },
      "execution_count": 36,
      "outputs": [
        {
          "output_type": "stream",
          "name": "stdout",
          "text": [
            "Total de 3338 veículos, nas quais apenas 6 são elétricos\n"
          ]
        }
      ]
    },
    {
      "cell_type": "markdown",
      "source": [
        "**Apenas 0,01% dos veículos fabricados pela Smart são elétricos, porém como vimos acima são os mais caros, vamos ver os seus preços e quais modelos:**"
      ],
      "metadata": {
        "id": "OF0KEMzNmd8H"
      }
    },
    {
      "cell_type": "code",
      "source": [
        "smart_fuel = df[df[\"brand\"] == \"smart\"]\n",
        "smart_fuel[\"fuelType\"].value_counts(normalize=True)"
      ],
      "metadata": {
        "colab": {
          "base_uri": "https://localhost:8080/"
        },
        "id": "zTUdbf4fkRBw",
        "outputId": "2ddc95c0-d360-4863-9934-f94657d5131b"
      },
      "execution_count": 37,
      "outputs": [
        {
          "output_type": "execute_result",
          "data": {
            "text/plain": [
              "benzin     0.811564\n",
              "diesel     0.185740\n",
              "elektro    0.001797\n",
              "cng        0.000300\n",
              "hybrid     0.000300\n",
              "lpg        0.000300\n",
              "Name: fuelType, dtype: float64"
            ]
          },
          "metadata": {},
          "execution_count": 37
        }
      ]
    },
    {
      "cell_type": "markdown",
      "source": [
        "**Veículos elétricos da Smart e seus dados gerais:**"
      ],
      "metadata": {
        "id": "pRZy57f8oQ61"
      }
    },
    {
      "cell_type": "code",
      "source": [
        "smart_fuel_ele"
      ],
      "metadata": {
        "colab": {
          "base_uri": "https://localhost:8080/",
          "height": 238
        },
        "id": "763LFxEQncQI",
        "outputId": "eedf5c8f-c0fc-4a66-b741-886db6491846"
      },
      "execution_count": 38,
      "outputs": [
        {
          "output_type": "execute_result",
          "data": {
            "text/plain": [
              "         price   abtest vehicleType  yearOfRegistration    gearbox  powerPS  \\\n",
              "65033    18900     test  kleinwagen                2016  automatik       48   \n",
              "69283    16850     test      cabrio                2012  automatik       48   \n",
              "94420   100000     test  kleinwagen                2013  automatik        0   \n",
              "162387   18900     test       coupe                2016  automatik       48   \n",
              "325848   17490     test      cabrio                2014  automatik       75   \n",
              "343522    4500  control  kleinwagen                2014  automatik       55   \n",
              "\n",
              "         model  kilometer  monthOfRegistration fuelType  brand  \\\n",
              "65033   fortwo       5000                    3  elektro  smart   \n",
              "69283   fortwo      30000                   11  elektro  smart   \n",
              "94420   andere     150000                   11  elektro  smart   \n",
              "162387  fortwo       5000                    0  elektro  smart   \n",
              "325848  fortwo      20000                    6  elektro  smart   \n",
              "343522  fortwo       5000                    9  elektro  smart   \n",
              "\n",
              "       notRepairedDamage  \n",
              "65033               nein  \n",
              "69283               nein  \n",
              "94420               nein  \n",
              "162387              nein  \n",
              "325848              nein  \n",
              "343522              nein  "
            ],
            "text/html": [
              "\n",
              "  <div id=\"df-547e2f87-05ba-4542-82e2-8f666823ad82\">\n",
              "    <div class=\"colab-df-container\">\n",
              "      <div>\n",
              "<style scoped>\n",
              "    .dataframe tbody tr th:only-of-type {\n",
              "        vertical-align: middle;\n",
              "    }\n",
              "\n",
              "    .dataframe tbody tr th {\n",
              "        vertical-align: top;\n",
              "    }\n",
              "\n",
              "    .dataframe thead th {\n",
              "        text-align: right;\n",
              "    }\n",
              "</style>\n",
              "<table border=\"1\" class=\"dataframe\">\n",
              "  <thead>\n",
              "    <tr style=\"text-align: right;\">\n",
              "      <th></th>\n",
              "      <th>price</th>\n",
              "      <th>abtest</th>\n",
              "      <th>vehicleType</th>\n",
              "      <th>yearOfRegistration</th>\n",
              "      <th>gearbox</th>\n",
              "      <th>powerPS</th>\n",
              "      <th>model</th>\n",
              "      <th>kilometer</th>\n",
              "      <th>monthOfRegistration</th>\n",
              "      <th>fuelType</th>\n",
              "      <th>brand</th>\n",
              "      <th>notRepairedDamage</th>\n",
              "    </tr>\n",
              "  </thead>\n",
              "  <tbody>\n",
              "    <tr>\n",
              "      <th>65033</th>\n",
              "      <td>18900</td>\n",
              "      <td>test</td>\n",
              "      <td>kleinwagen</td>\n",
              "      <td>2016</td>\n",
              "      <td>automatik</td>\n",
              "      <td>48</td>\n",
              "      <td>fortwo</td>\n",
              "      <td>5000</td>\n",
              "      <td>3</td>\n",
              "      <td>elektro</td>\n",
              "      <td>smart</td>\n",
              "      <td>nein</td>\n",
              "    </tr>\n",
              "    <tr>\n",
              "      <th>69283</th>\n",
              "      <td>16850</td>\n",
              "      <td>test</td>\n",
              "      <td>cabrio</td>\n",
              "      <td>2012</td>\n",
              "      <td>automatik</td>\n",
              "      <td>48</td>\n",
              "      <td>fortwo</td>\n",
              "      <td>30000</td>\n",
              "      <td>11</td>\n",
              "      <td>elektro</td>\n",
              "      <td>smart</td>\n",
              "      <td>nein</td>\n",
              "    </tr>\n",
              "    <tr>\n",
              "      <th>94420</th>\n",
              "      <td>100000</td>\n",
              "      <td>test</td>\n",
              "      <td>kleinwagen</td>\n",
              "      <td>2013</td>\n",
              "      <td>automatik</td>\n",
              "      <td>0</td>\n",
              "      <td>andere</td>\n",
              "      <td>150000</td>\n",
              "      <td>11</td>\n",
              "      <td>elektro</td>\n",
              "      <td>smart</td>\n",
              "      <td>nein</td>\n",
              "    </tr>\n",
              "    <tr>\n",
              "      <th>162387</th>\n",
              "      <td>18900</td>\n",
              "      <td>test</td>\n",
              "      <td>coupe</td>\n",
              "      <td>2016</td>\n",
              "      <td>automatik</td>\n",
              "      <td>48</td>\n",
              "      <td>fortwo</td>\n",
              "      <td>5000</td>\n",
              "      <td>0</td>\n",
              "      <td>elektro</td>\n",
              "      <td>smart</td>\n",
              "      <td>nein</td>\n",
              "    </tr>\n",
              "    <tr>\n",
              "      <th>325848</th>\n",
              "      <td>17490</td>\n",
              "      <td>test</td>\n",
              "      <td>cabrio</td>\n",
              "      <td>2014</td>\n",
              "      <td>automatik</td>\n",
              "      <td>75</td>\n",
              "      <td>fortwo</td>\n",
              "      <td>20000</td>\n",
              "      <td>6</td>\n",
              "      <td>elektro</td>\n",
              "      <td>smart</td>\n",
              "      <td>nein</td>\n",
              "    </tr>\n",
              "    <tr>\n",
              "      <th>343522</th>\n",
              "      <td>4500</td>\n",
              "      <td>control</td>\n",
              "      <td>kleinwagen</td>\n",
              "      <td>2014</td>\n",
              "      <td>automatik</td>\n",
              "      <td>55</td>\n",
              "      <td>fortwo</td>\n",
              "      <td>5000</td>\n",
              "      <td>9</td>\n",
              "      <td>elektro</td>\n",
              "      <td>smart</td>\n",
              "      <td>nein</td>\n",
              "    </tr>\n",
              "  </tbody>\n",
              "</table>\n",
              "</div>\n",
              "      <button class=\"colab-df-convert\" onclick=\"convertToInteractive('df-547e2f87-05ba-4542-82e2-8f666823ad82')\"\n",
              "              title=\"Convert this dataframe to an interactive table.\"\n",
              "              style=\"display:none;\">\n",
              "        \n",
              "  <svg xmlns=\"http://www.w3.org/2000/svg\" height=\"24px\"viewBox=\"0 0 24 24\"\n",
              "       width=\"24px\">\n",
              "    <path d=\"M0 0h24v24H0V0z\" fill=\"none\"/>\n",
              "    <path d=\"M18.56 5.44l.94 2.06.94-2.06 2.06-.94-2.06-.94-.94-2.06-.94 2.06-2.06.94zm-11 1L8.5 8.5l.94-2.06 2.06-.94-2.06-.94L8.5 2.5l-.94 2.06-2.06.94zm10 10l.94 2.06.94-2.06 2.06-.94-2.06-.94-.94-2.06-.94 2.06-2.06.94z\"/><path d=\"M17.41 7.96l-1.37-1.37c-.4-.4-.92-.59-1.43-.59-.52 0-1.04.2-1.43.59L10.3 9.45l-7.72 7.72c-.78.78-.78 2.05 0 2.83L4 21.41c.39.39.9.59 1.41.59.51 0 1.02-.2 1.41-.59l7.78-7.78 2.81-2.81c.8-.78.8-2.07 0-2.86zM5.41 20L4 18.59l7.72-7.72 1.47 1.35L5.41 20z\"/>\n",
              "  </svg>\n",
              "      </button>\n",
              "      \n",
              "  <style>\n",
              "    .colab-df-container {\n",
              "      display:flex;\n",
              "      flex-wrap:wrap;\n",
              "      gap: 12px;\n",
              "    }\n",
              "\n",
              "    .colab-df-convert {\n",
              "      background-color: #E8F0FE;\n",
              "      border: none;\n",
              "      border-radius: 50%;\n",
              "      cursor: pointer;\n",
              "      display: none;\n",
              "      fill: #1967D2;\n",
              "      height: 32px;\n",
              "      padding: 0 0 0 0;\n",
              "      width: 32px;\n",
              "    }\n",
              "\n",
              "    .colab-df-convert:hover {\n",
              "      background-color: #E2EBFA;\n",
              "      box-shadow: 0px 1px 2px rgba(60, 64, 67, 0.3), 0px 1px 3px 1px rgba(60, 64, 67, 0.15);\n",
              "      fill: #174EA6;\n",
              "    }\n",
              "\n",
              "    [theme=dark] .colab-df-convert {\n",
              "      background-color: #3B4455;\n",
              "      fill: #D2E3FC;\n",
              "    }\n",
              "\n",
              "    [theme=dark] .colab-df-convert:hover {\n",
              "      background-color: #434B5C;\n",
              "      box-shadow: 0px 1px 3px 1px rgba(0, 0, 0, 0.15);\n",
              "      filter: drop-shadow(0px 1px 2px rgba(0, 0, 0, 0.3));\n",
              "      fill: #FFFFFF;\n",
              "    }\n",
              "  </style>\n",
              "\n",
              "      <script>\n",
              "        const buttonEl =\n",
              "          document.querySelector('#df-547e2f87-05ba-4542-82e2-8f666823ad82 button.colab-df-convert');\n",
              "        buttonEl.style.display =\n",
              "          google.colab.kernel.accessAllowed ? 'block' : 'none';\n",
              "\n",
              "        async function convertToInteractive(key) {\n",
              "          const element = document.querySelector('#df-547e2f87-05ba-4542-82e2-8f666823ad82');\n",
              "          const dataTable =\n",
              "            await google.colab.kernel.invokeFunction('convertToInteractive',\n",
              "                                                     [key], {});\n",
              "          if (!dataTable) return;\n",
              "\n",
              "          const docLinkHtml = 'Like what you see? Visit the ' +\n",
              "            '<a target=\"_blank\" href=https://colab.research.google.com/notebooks/data_table.ipynb>data table notebook</a>'\n",
              "            + ' to learn more about interactive tables.';\n",
              "          element.innerHTML = '';\n",
              "          dataTable['output_type'] = 'display_data';\n",
              "          await google.colab.output.renderOutput(dataTable, element);\n",
              "          const docLink = document.createElement('div');\n",
              "          docLink.innerHTML = docLinkHtml;\n",
              "          element.appendChild(docLink);\n",
              "        }\n",
              "      </script>\n",
              "    </div>\n",
              "  </div>\n",
              "  "
            ]
          },
          "metadata": {},
          "execution_count": 38
        }
      ]
    },
    {
      "cell_type": "markdown",
      "source": [
        "**A disparidade em números entre a média de preços de todos os veículos da fabricante Smart e os elétricos da mesma fabricante:**"
      ],
      "metadata": {
        "id": "vQGTFH4noYKT"
      }
    },
    {
      "cell_type": "markdown",
      "source": [
        "**Geral:**"
      ],
      "metadata": {
        "id": "gBWeuu4OylT9"
      }
    },
    {
      "cell_type": "code",
      "source": [
        "smart_fuel[\"price\"].mean()"
      ],
      "metadata": {
        "colab": {
          "base_uri": "https://localhost:8080/"
        },
        "id": "fqQrKo7xoHbG",
        "outputId": "7eae3a26-14ea-49f3-d36b-daf268d49b35"
      },
      "execution_count": 39,
      "outputs": [
        {
          "output_type": "execute_result",
          "data": {
            "text/plain": [
              "4018.451467944877"
            ]
          },
          "metadata": {},
          "execution_count": 39
        }
      ]
    },
    {
      "cell_type": "markdown",
      "source": [
        "**Elétricos**"
      ],
      "metadata": {
        "id": "Mdhvv-n1yq2d"
      }
    },
    {
      "cell_type": "code",
      "source": [
        "smart_fuel_ele[\"price\"].mean()"
      ],
      "metadata": {
        "colab": {
          "base_uri": "https://localhost:8080/"
        },
        "id": "9xy12QKzoKzt",
        "outputId": "3efd0182-b876-4330-d44c-7e1840f839ae"
      },
      "execution_count": 40,
      "outputs": [
        {
          "output_type": "execute_result",
          "data": {
            "text/plain": [
              "29440.0"
            ]
          },
          "metadata": {},
          "execution_count": 40
        }
      ]
    },
    {
      "cell_type": "code",
      "source": [
        ""
      ],
      "metadata": {
        "id": "KNe3JJgcyuHy"
      },
      "execution_count": null,
      "outputs": []
    }
  ]
}